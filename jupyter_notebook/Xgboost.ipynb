{
 "cells": [
  {
   "cell_type": "code",
   "execution_count": 1,
   "metadata": {},
   "outputs": [],
   "source": [
    "import sys\n",
    "import os\n",
    "from time import time \n",
    "from datetime import timedelta, datetime\n",
    "import gc\n",
    "from collections import defaultdict\n",
    "import xgboost as xgb\n",
    "\n",
    "from sklearn import metrics\n",
    "import pandas as pd\n",
    "from sklearn.model_selection import RandomizedSearchCV, GridSearchCV\n",
    "import numpy as np\n",
    "import seaborn as sns\n",
    "import matplotlib.pyplot as plt\n",
    "from tqdm import tqdm"
   ]
  },
  {
   "cell_type": "code",
   "execution_count": 2,
   "metadata": {},
   "outputs": [],
   "source": [
    "sys.path.append('../')\n",
    "from utils import (\n",
    "    check_columns, \n",
    "    check_category_column, \n",
    "    save_model, \n",
    "    transform_category_column,\n",
    "    get_time_diff,\n",
    "    load_model,\n",
    "    LogManager,\n",
    "    timer,\n",
    "    standard_scale,\n",
    "    log_scale,\n",
    "    remove_cont_cols_with_small_std,\n",
    "    correct_column_type\n",
    ")\n",
    "import conf\n",
    "from mlpipeline.feature_engineering import (\n",
    "    USING_LABEL,\n",
    "    FAULT_LABEL,\n",
    ")\n",
    "\n",
    "# global setting\n",
    "LogManager.created_filename = os.path.join(conf.LOG_DIR, 'xgboost.log')\n",
    "LogManager.log_handle = 'file'\n",
    "logger = LogManager.get_logger(__name__)"
   ]
  },
  {
   "cell_type": "code",
   "execution_count": 3,
   "metadata": {},
   "outputs": [],
   "source": [
    "CLASS_NAME = ['无故障','有故障']\n",
    "EARLY_STOPPING_ROUNDS=10\n",
    "CLS_RANKING = 0.996  # 0.996,0.994\n",
    "NUM_SUBMISSION = 40"
   ]
  },
  {
   "cell_type": "code",
   "execution_count": 4,
   "metadata": {},
   "outputs": [],
   "source": [
    "def _f1_score( eval_df):\n",
    "    def __precision():\n",
    "            tmp_df = eval_df[eval_df['pred']==1]\n",
    "            mask = tmp_df['pred']==tmp_df['tag']\n",
    "            ntpp = len(tmp_df[mask])\n",
    "            npp = len(tmp_df)\n",
    "            return  ntpp / npp\n",
    "    def __recall():\n",
    "            fault_tmp_df = eval_df[eval_df['flag']==1] \n",
    "            npr = len(fault_tmp_df)\n",
    "            pred_tmp_df = eval_df[eval_df['pred']==1]\n",
    "            mask =  (pred_tmp_df['model'].isin(fault_tmp_df['model'])) & (pred_tmp_df['serial_number'].isin(fault_tmp_df['serial_number']))\n",
    "            ntpr = len(pred_tmp_df[mask])\n",
    "            return ntpr / npr\n",
    "    precision, recall = __precision(), __recall()\n",
    "    return precision, recall, 2* precision * recall / (precision + recall)"
   ]
  },
  {
   "cell_type": "code",
   "execution_count": 5,
   "metadata": {},
   "outputs": [],
   "source": [
    "def _log_best_round_of_model(model, \n",
    "                             evals_result,\n",
    "                             valid_index,\n",
    "                             metric):\n",
    "        assert hasattr(model, 'best_iteration'), 'just can logger object that has best_iteration attribute'\n",
    "        n_estimators = model.best_iteration\n",
    "        logger.info('eval最优轮数: %s, eval最优%s: %s' %(\n",
    "                                                       n_estimators, \n",
    "                                                       metric,            \n",
    "                                                       evals_result[valid_index][metric][n_estimators]))"
   ]
  },
  {
   "cell_type": "code",
   "execution_count": 6,
   "metadata": {},
   "outputs": [],
   "source": [
    "def _train_valid_split(\n",
    "                       fe_df,\n",
    "                       train_start_date,\n",
    "                       train_end_date,\n",
    "                       valid_start_date,\n",
    "                       valid_end_date,  \n",
    "                       train_on_model_id,\n",
    "                       eval_on_model_id,\n",
    "                       use_next_month_fault_data,\n",
    "                       next_month_start_date,\n",
    "                       next_month_end_date,\n",
    "                       use_standard,\n",
    "                       use_log,\n",
    "):\n",
    "    \n",
    "    index_cols, cate_cols, cont_cols, label_cols = check_columns(fe_df.dtypes.to_dict())\n",
    "    assert cate_cols is not None or cont_cols is not None, 'feature columns are empty' \n",
    "#     cate_transform_dict = check_category_column(fe_df, cate_cols)\n",
    "#     fe_df = transform_category_column(fe_df, cate_transform_dict)\n",
    "    logger.info('连续性特征数量: %s' % len(cont_cols))\n",
    "    logger.info('离散性特征数量: %s' % len(cate_cols))\n",
    "    \n",
    "    train_fe_df = fe_df[(fe_df['dt'] >= train_start_date) & (fe_df['dt']<=train_end_date)] \n",
    "    fault_2017_df = fe_df[fe_df['dt']<'2018-01-01']\n",
    "    if not fault_2017_df.empty:\n",
    "            train_fe_df = pd.concat([fault_2017_df[fault_2017_df[USING_LABEL]==FAULT_LABEL],train_fe_df], axis=0)\n",
    "    \n",
    "    # add next_month_fault_data into train\n",
    "    if use_next_month_fault_data:\n",
    "            next_month_fe_df = fe_df[(fe_df['dt']>=next_month_start_date) & (fe_df['dt']<=next_month_end_date)]\n",
    "            if not next_month_fe_df.empty:\n",
    "                next_month_fault_disk_df = next_month_fe_df[next_month_fe_df['flag']==1]\n",
    "                next_month_tag_df = next_month_fe_df[next_month_fe_df['tag']==1]\n",
    "                mask = next_month_tag_df.model.isin(next_month_fault_disk_df.model)\n",
    "                mask &= next_month_tag_df.serial_number.isin(next_month_fault_disk_df.serial_number)\n",
    "                train_fe_df = pd.concat([next_month_tag_df[mask],train_fe_df], axis=0)\n",
    "              \n",
    "    if train_on_model_id !=None:\n",
    "        train_fe_df = train_fe_df[train_fe_df.model==train_on_model_id]\n",
    "    val_fe_df = fe_df[(fe_df['dt'] >= valid_start_date) & (fe_df['dt']<=valid_end_date)]\n",
    "    if eval_on_model_id !=None:\n",
    "        val_fe_df = val_fe_df[val_fe_df.model==eval_on_model_id]     \n",
    "    train_fe_df.reset_index(drop=True,inplace=True)\n",
    "    val_fe_df.reset_index(drop=True,inplace=True)  \n",
    "    del fe_df\n",
    "    gc.collect()\n",
    "    \n",
    "    if cate_cols and not cont_cols:\n",
    "        train_x = train_fe_df[cate_cols]\n",
    "        val_x = val_fe_df[cate_cols + index_cols]\n",
    "    elif not cate_cols and cont_cols:\n",
    "        if use_standard:\n",
    "                logger.info(\"使用标准化: %s\"%use_standard)\n",
    "                train_fe_df, val_fe_df = standard_scale(cont_cols, \n",
    "                                                train_fe_df, \n",
    "                                                val_fe_df)\n",
    "        if use_log:\n",
    "                logger.info(\"使用log: %s\"%use_log)\n",
    "                train_fe_df, val_fe_df = log_scale(cont_cols, \n",
    "                                           train_fe_df, \n",
    "                                           val_fe_df)\n",
    "        train_x = train_fe_df[cont_cols]\n",
    "        val_x = val_fe_df[cont_cols]    \n",
    "    else:\n",
    "        if use_standard:\n",
    "                logger.info(\"使用标准化: %s\"%use_standard)\n",
    "                train_fe_df, val_fe_df = standard_scale(cont_cols, \n",
    "                                                train_fe_df, \n",
    "                                                val_fe_df)\n",
    "        if use_log:\n",
    "                logger.info(\"使用log: %s\"%use_log)\n",
    "                train_fe_df, val_fe_df = log_scale(cont_cols, \n",
    "                                           train_fe_df, \n",
    "                                           val_fe_df)\n",
    "        \n",
    "        train_x = pd.concat([train_fe_df[cate_cols],\n",
    "                             train_fe_df[cont_cols]],\n",
    "                             axis=1)\n",
    "        val_x = pd.concat([val_fe_df[cate_cols],\n",
    "                     val_fe_df[cont_cols],\n",
    "                           ], \n",
    "                           axis=1)\n",
    "       \n",
    "    train_y = train_fe_df[label_cols]\n",
    "    val_y = val_fe_df[label_cols]\n",
    "    \n",
    "    return  (index_cols, cate_cols, cont_cols, label_cols), train_fe_df, val_fe_df, train_x, train_y, val_x, val_y \n"
   ]
  },
  {
   "cell_type": "code",
   "execution_count": 7,
   "metadata": {},
   "outputs": [],
   "source": [
    "fe_df = pd.read_feather(os.path.join(conf.DATA_DIR, \"sample_by_clustering_0.00112392_fe_df_01_01_round_2_with_cluster_label.feather\"))"
   ]
  },
  {
   "cell_type": "code",
   "execution_count": 8,
   "metadata": {},
   "outputs": [
    {
     "data": {
      "text/plain": [
       "Index(['degradation_err_weight',\n",
       "       'degradation_err_weight_diff_for_last_period_7',\n",
       "       'degradation_err_weight_max_7', 'degradation_err_weight_min_7',\n",
       "       'degradation_err_weight_std_7', 'dt', 'err_weight',\n",
       "       'err_weight_diff_for_last_period_7', 'err_weight_max_7',\n",
       "       'err_weight_min_7', 'err_weight_std_7', 'flag', 'model', 'model_type',\n",
       "       'seek_err_weight', 'seek_err_weight_diff_for_last_period_7',\n",
       "       'seek_err_weight_max_7', 'seek_err_weight_min_7',\n",
       "       'seek_err_weight_std_7', 'serial_number', 'smart_12raw',\n",
       "       'smart_12raw_diff_for_last_period_7', 'smart_12raw_max_7',\n",
       "       'smart_12raw_min_7', 'smart_12raw_std_7', 'smart_184raw',\n",
       "       'smart_187_normalized', 'smart_188raw', 'smart_189_normalized',\n",
       "       'smart_189_normalized_diff_for_last_period_7',\n",
       "       'smart_189_normalized_max_7', 'smart_189_normalized_min_7',\n",
       "       'smart_189_normalized_std_7', 'smart_191_normalized',\n",
       "       'smart_191_normalized_diff_for_last_period_7',\n",
       "       'smart_191_normalized_max_7', 'smart_191_normalized_min_7',\n",
       "       'smart_191_normalized_std_7', 'smart_192raw',\n",
       "       'smart_192raw_diff_for_last_period_7', 'smart_192raw_max_7',\n",
       "       'smart_192raw_min_7', 'smart_192raw_std_7', 'smart_193_normalized',\n",
       "       'smart_193_normalized_diff_for_last_period_7',\n",
       "       'smart_193_normalized_max_7', 'smart_193_normalized_min_7',\n",
       "       'smart_193_normalized_std_7', 'smart_194raw',\n",
       "       'smart_194raw_diff_for_last_period_7', 'smart_194raw_max_7',\n",
       "       'smart_194raw_min_7', 'smart_194raw_std_7', 'smart_195_normalized',\n",
       "       'smart_195_normalized_diff_for_last_period_7',\n",
       "       'smart_195_normalized_max_7', 'smart_195_normalized_min_7',\n",
       "       'smart_195_normalized_std_7', 'smart_197raw', 'smart_198raw',\n",
       "       'smart_199raw', 'smart_199raw_diff_for_last_period_7',\n",
       "       'smart_199raw_max_7', 'smart_199raw_min_7', 'smart_199raw_std_7',\n",
       "       'smart_1_normalized', 'smart_1_normalized_diff_for_last_period_7',\n",
       "       'smart_1_normalized_max_7', 'smart_1_normalized_min_7',\n",
       "       'smart_1_normalized_std_7', 'smart_3_normalized',\n",
       "       'smart_3_normalized_diff_for_last_period_7', 'smart_3_normalized_max_7',\n",
       "       'smart_3_normalized_min_7', 'smart_3_normalized_std_7', 'smart_4raw',\n",
       "       'smart_4raw_diff_for_last_period_7', 'smart_4raw_max_7',\n",
       "       'smart_4raw_min_7', 'smart_4raw_std_7', 'smart_5raw',\n",
       "       'smart_5raw_diff_for_last_period_7', 'smart_5raw_max_7',\n",
       "       'smart_5raw_min_7', 'smart_5raw_slope_for_last_duration_7',\n",
       "       'smart_5raw_std_7', 'smart_7_normalized',\n",
       "       'smart_7_normalized_diff_for_last_period_7', 'smart_7_normalized_max_7',\n",
       "       'smart_7_normalized_min_7', 'smart_7_normalized_std_7',\n",
       "       'smart_9_normalized', 'tag'],\n",
       "      dtype='object')"
      ]
     },
     "execution_count": 8,
     "metadata": {},
     "output_type": "execute_result"
    }
   ],
   "source": [
    "fe_df.columns"
   ]
  },
  {
   "cell_type": "code",
   "execution_count": 9,
   "metadata": {},
   "outputs": [],
   "source": [
    "cols, train_fe_df, val_fe_df, train_x, train_y, valid_x, valid_y = _train_valid_split(fe_df=fe_df,\n",
    "                                                                                       train_start_date='2018-01-01',\n",
    "                                                                                       train_end_date='2018-05-31',\n",
    "                                                                                       valid_start_date='2018-07-01',\n",
    "                                                                                       valid_end_date='2018-07-31',  \n",
    "                                                                                       train_on_model_id=None,\n",
    "                                                                                       eval_on_model_id=None,\n",
    "                                                                                       use_next_month_fault_data=False,\n",
    "                                                                                       next_month_start_date=None,\n",
    "                                                                                       next_month_end_date=None,\n",
    "                                                                                       use_standard=False,\n",
    "                                                                                       use_log=False)"
   ]
  },
  {
   "cell_type": "code",
   "execution_count": 10,
   "metadata": {},
   "outputs": [],
   "source": [
    "index_cols, cate_cols, cont_cols, label_cols = cols\n",
    "val_x_index = val_fe_df[index_cols]\n",
    "feature_name = train_x.columns"
   ]
  },
  {
   "cell_type": "code",
   "execution_count": 45,
   "metadata": {
    "scrolled": true
   },
   "outputs": [
    {
     "data": {
      "text/plain": [
       "['model_type', 'smart_184raw', 'smart_188raw', 'smart_197raw', 'smart_198raw']"
      ]
     },
     "execution_count": 45,
     "metadata": {},
     "output_type": "execute_result"
    }
   ],
   "source": [
    "cat_cols = [col for col in train_x.columns if str(train_x[col].dtypes) == \"category\"]\n",
    "cat_cols"
   ]
  },
  {
   "cell_type": "code",
   "execution_count": 11,
   "metadata": {},
   "outputs": [],
   "source": [
    "train_x = pd.get_dummies(train_x, columns=cate_cols)\n",
    "val_x = pd.get_dummies(valid_x, columns=cate_cols)"
   ]
  },
  {
   "cell_type": "code",
   "execution_count": 13,
   "metadata": {},
   "outputs": [],
   "source": [
    "num_train_pos = len(train_fe_df[train_fe_df[USING_LABEL]==FAULT_LABEL])\n",
    "num_train_neg = len(train_fe_df[train_fe_df[USING_LABEL]!=FAULT_LABEL])\n",
    "ratio_train_pos_neg = round(num_train_pos/num_train_neg, 5)\n",
    "logger.info('训练集正负样本比:%s:%s(i.e. %s)'%(num_train_pos,\n",
    "                                            num_train_neg,\n",
    "                                            ratio_train_pos_neg))                                       \n",
    "\n",
    "num_valid_pos = len(val_fe_df[val_fe_df[USING_LABEL]==FAULT_LABEL])\n",
    "num_valid_neg = len(val_fe_df[val_fe_df[USING_LABEL]!=FAULT_LABEL])\n",
    "ratio_valid_pos_neg = round(num_valid_pos/num_valid_neg, 5)\n",
    "logger.info('验证集正负样本比:%s:%s(i.e. %s)'%(num_valid_pos,\n",
    "                                            num_valid_neg,\n",
    "                                            ratio_valid_pos_neg))\n",
    "train_start_time = time()\n",
    "train_set = xgb.DMatrix(data=train_x, label=train_y[USING_LABEL])\n",
    "val_set = xgb.DMatrix(data=val_x, label=valid_y[USING_LABEL])\n",
    "evals_result = {}"
   ]
  },
  {
   "cell_type": "code",
   "execution_count": 27,
   "metadata": {},
   "outputs": [],
   "source": [
    "model_params={\n",
    "            'objective': 'binary:logistic', \n",
    "            'learning_rate': 0.001, \n",
    "\n",
    "            'num_leaves': 16,\n",
    "            \n",
    "            'eval_metric': ['auc'],\n",
    "\n",
    "            'subsample': 0.8341500491577648, \n",
    "            'colsample_bytree': 0.3727020339353229, \n",
    "            'num_threads': 12, \n",
    "            'lambda_l2': 1.6310435018078826,\n",
    "            'lambda_l1': 1.23238757828006462, \n",
    "            'random_state': 2019, \n",
    "            'min_data_in_leaf': 20,\n",
    "            'num_boost_round': 100, \n",
    "            'device': 'cpu'\n",
    "}"
   ]
  },
  {
   "cell_type": "code",
   "execution_count": 29,
   "metadata": {},
   "outputs": [
    {
     "name": "stdout",
     "output_type": "stream",
     "text": [
      "[0]\ttrain-auc:0.74801\teval-auc:0.72752\n",
      "Multiple eval metrics have been passed: 'eval-auc' will be used for early stopping.\n",
      "\n",
      "Will train until eval-auc hasn't improved in 10 rounds.\n",
      "[1]\ttrain-auc:0.77084\teval-auc:0.72348\n",
      "[2]\ttrain-auc:0.78017\teval-auc:0.73385\n",
      "[3]\ttrain-auc:0.78203\teval-auc:0.73671\n",
      "[4]\ttrain-auc:0.78845\teval-auc:0.73668\n",
      "[5]\ttrain-auc:0.79507\teval-auc:0.73265\n",
      "[6]\ttrain-auc:0.79846\teval-auc:0.73559\n",
      "[7]\ttrain-auc:0.79775\teval-auc:0.73521\n",
      "[8]\ttrain-auc:0.79833\teval-auc:0.73461\n",
      "[9]\ttrain-auc:0.79789\teval-auc:0.73703\n",
      "[10]\ttrain-auc:0.79775\teval-auc:0.73723\n",
      "[11]\ttrain-auc:0.79887\teval-auc:0.73536\n",
      "[12]\ttrain-auc:0.80032\teval-auc:0.73611\n",
      "[13]\ttrain-auc:0.80071\teval-auc:0.73667\n",
      "[14]\ttrain-auc:0.80109\teval-auc:0.73629\n",
      "[15]\ttrain-auc:0.80213\teval-auc:0.73811\n",
      "[16]\ttrain-auc:0.80141\teval-auc:0.73868\n",
      "[17]\ttrain-auc:0.80202\teval-auc:0.73774\n",
      "[18]\ttrain-auc:0.80316\teval-auc:0.73878\n",
      "[19]\ttrain-auc:0.80357\teval-auc:0.73753\n",
      "[20]\ttrain-auc:0.80259\teval-auc:0.73759\n",
      "[21]\ttrain-auc:0.80299\teval-auc:0.73780\n",
      "[22]\ttrain-auc:0.80293\teval-auc:0.73785\n",
      "[23]\ttrain-auc:0.80313\teval-auc:0.73940\n",
      "[24]\ttrain-auc:0.80268\teval-auc:0.73889\n",
      "[25]\ttrain-auc:0.80302\teval-auc:0.73853\n",
      "[26]\ttrain-auc:0.80329\teval-auc:0.73864\n",
      "[27]\ttrain-auc:0.80286\teval-auc:0.73764\n",
      "[28]\ttrain-auc:0.80293\teval-auc:0.73712\n",
      "[29]\ttrain-auc:0.80271\teval-auc:0.73651\n",
      "[30]\ttrain-auc:0.80290\teval-auc:0.73674\n",
      "[31]\ttrain-auc:0.80239\teval-auc:0.73652\n",
      "[32]\ttrain-auc:0.80290\teval-auc:0.73729\n",
      "[33]\ttrain-auc:0.80338\teval-auc:0.73756\n",
      "Stopping. Best iteration:\n",
      "[23]\ttrain-auc:0.80313\teval-auc:0.73940\n",
      "\n"
     ]
    }
   ],
   "source": [
    "logger.info('eval参数:%s' % model_params)\n",
    "model = xgb.train(params = model_params, num_boost_round = 100, dtrain = train_set, evals = [(train_set, 'train'), (val_set, 'eval')],\n",
    "                early_stopping_rounds=EARLY_STOPPING_ROUNDS, evals_result=evals_result)"
   ]
  },
  {
   "cell_type": "code",
   "execution_count": 31,
   "metadata": {},
   "outputs": [],
   "source": [
    "_log_best_round_of_model(model, evals_result, 'eval', 'auc')"
   ]
  },
  {
   "cell_type": "code",
   "execution_count": 32,
   "metadata": {},
   "outputs": [],
   "source": [
    "def _feature_imp_plot_lgb(model, \n",
    "                          features_name,\n",
    "                          train_start_time,\n",
    "                          save_feat_important=False,\n",
    "                          max_num_features=30,\n",
    "                          font_scale=0.7):\n",
    "        \"\"\"\n",
    "        visualize the feature importance for lightgbm classifier\n",
    "        \"\"\"\n",
    "        feat_imp = pd.DataFrame.from_dict(model.get_score(importance_type='gain'), orient=\"index\", columns=['Value'])\n",
    "        feat_imp = feat_imp.reset_index().rename(columns = {\"index\":\"Feature\"}).sort_values(by=\"Value\", ascending=False)\n",
    "        #feat_imp = pd.DataFrame(zip(model.get_score(importance_type='gain'), features_name),\n",
    "                                #columns=['Value', 'Feature']).sort_values(by=\"Value\", ascending=False)\n",
    "        logger.info('特征重要性：%s'%feat_imp)\n",
    "\n",
    "        # plot importance\n",
    "        fig, ax = plt.subplots(figsize=(12, 4))\n",
    "        top_data = feat_imp.iloc[0:max_num_features]\n",
    "        top_feat_name = top_data['Feature'].values\n",
    "        sns.barplot(x=\"Value\", y=\"Feature\", data=top_data)\n",
    "        ax.set_title('lgb top %s features important'% max_num_features)\n",
    "        ax.set_yticklabels(labels=top_feat_name)\n",
    "        pic_name = 'lgb_top_%s_feature_importance_%s.png' % (max_num_features, train_start_time)\n",
    "        if save_feat_important:\n",
    "            pic_save_path = os.path.join(conf.FIGURE_DIR, pic_name)\n",
    "            plt.savefig(pic_save_path)\n",
    "            logger.info('%s 保存至%s'% (pic_name, pic_save_path))\n",
    "        plt.show()"
   ]
  },
  {
   "cell_type": "code",
   "execution_count": 33,
   "metadata": {},
   "outputs": [
    {
     "data": {
      "image/png": "[encoded data removed]",
      "text/plain": [
       "<Figure size 864x288 with 1 Axes>"
      ]
     },
     "metadata": {
      "needs_background": "light"
     },
     "output_type": "display_data"
    }
   ],
   "source": [
    "_feature_imp_plot_lgb(model,\n",
    "                                  train_x.columns,\n",
    "                                  train_start_time\n",
    "                                 )"
   ]
  },
  {
   "cell_type": "code",
   "execution_count": 68,
   "metadata": {},
   "outputs": [],
   "source": [
    "def _eval(\n",
    "          model,\n",
    "          val_x_index,\n",
    "          val_x,\n",
    "          val_y,\n",
    "          valid_start_date,\n",
    "          valid_end_date,\n",
    "          ):\n",
    "    # eval on valid set \n",
    "    results = []\n",
    "    eval_df = pd.concat([val_x_index,val_x, val_y], axis=1)\n",
    "    eval_df = eval_df.sort_values('dt')\n",
    "    valid_start_date, valid_end_date = eval_df.iloc[0]['dt'], eval_df.iloc[-1]['dt'] \n",
    "    valid_date_range = pd.date_range(valid_start_date, \n",
    "                                     valid_end_date, \n",
    "                                     freq='D')\n",
    "    for valid_date in valid_date_range:\n",
    "        logger.info('验证日期：%s'%valid_date)\n",
    "        sub_eval_df = eval_df[eval_df.dt==valid_date]\n",
    "        \n",
    "        #sub_eval_df.loc[:,'prob'] = model.predict(data=xgb.DMatrix(data=sub_eval_df[val_x.columns]))\n",
    "        sub_eval_df.loc[:,'prob'] = model.predict(data=np.array(sub_eval_df[val_x.columns]))\n",
    "        \n",
    "        sub_eval_df.loc[:,'rank'] = sub_eval_df['prob'].rank()\n",
    "        sub_eval_df.loc[:,'pred'] = (sub_eval_df['rank']>=sub_eval_df.shape[0] * CLS_RANKING).astype(int)\n",
    "        sub_eval_df = sub_eval_df.loc[sub_eval_df.pred == FAULT_LABEL]\n",
    "        sub_eval_df = sub_eval_df.sort_values('prob', ascending=False)\n",
    "        top_sub_eval_df = sub_eval_df.reset_index(drop=True, inplace=False).iloc[:NUM_SUBMISSION]\n",
    "        logger.info('原始预测为fault disk的个数：%s'%len(sub_eval_df))\n",
    "        results.append(top_sub_eval_df)\n",
    "    pred_df = pd.concat(results)\n",
    "    pred_df.drop_duplicates(['model','serial_number'], inplace=True)\n",
    "    logger.info('最终预测个数:%s'%len(pred_df))\n",
    "    eval_df = eval_df.merge(pred_df[index_cols + ['prob','rank','pred']],how='left',on=index_cols)\n",
    "    eval_df.loc[:,'pred'] = eval_df['pred'].fillna(0)\n",
    "    acc = metrics.accuracy_score(eval_df[USING_LABEL], eval_df['pred'])\n",
    "    report = metrics.classification_report(eval_df[USING_LABEL], eval_df['pred'], target_names=CLASS_NAME, digits=4)\n",
    "    confusion = metrics.confusion_matrix(eval_df[USING_LABEL], eval_df['pred'])\n",
    "    msg = 'Val Acc: {0:>6.2%}'\n",
    "    logger.info(msg.format(acc))\n",
    "    logger.info(\"Precision, Recall and F1-Score...\")\n",
    "    logger.info(report)\n",
    "    logger.info(\"Confusion Matrix...\")\n",
    "    logger.info(confusion)\n",
    "\n",
    "    # eval on competition index by topk \n",
    "    precision, recall, f1_score = _f1_score(\n",
    "                                            eval_df,\n",
    "                                           )\n",
    "    logger.info(\"竞赛recall: %s\"% recall)\n",
    "    logger.info(\"竞赛precision: %s\"%precision)\n",
    "    logger.info(\"竞赛f1-score: %s\"%f1_score)\n",
    "    \n",
    "    return eval_df, f1_score"
   ]
  },
  {
   "cell_type": "code",
   "execution_count": 69,
   "metadata": {},
   "outputs": [
    {
     "ename": "TypeError",
     "evalue": "('Expecting data to be a DMatrix object, got: ', <class 'numpy.ndarray'>)",
     "output_type": "error",
     "traceback": [
      "\u001b[0;31m---------------------------------------------------------------------------\u001b[0m",
      "\u001b[0;31mTypeError\u001b[0m                                 Traceback (most recent call last)",
      "\u001b[0;32m<ipython-input-69-2c07f555516b>\u001b[0m in \u001b[0;36m<module>\u001b[0;34m\u001b[0m\n\u001b[1;32m      5\u001b[0m                                        \u001b[0mvalid_y\u001b[0m\u001b[0;34m,\u001b[0m\u001b[0;34m\u001b[0m\u001b[0;34m\u001b[0m\u001b[0m\n\u001b[1;32m      6\u001b[0m                                        \u001b[0mvalid_start_date\u001b[0m\u001b[0;34m=\u001b[0m\u001b[0;34m'2018-07-01'\u001b[0m\u001b[0;34m,\u001b[0m\u001b[0;34m\u001b[0m\u001b[0;34m\u001b[0m\u001b[0m\n\u001b[0;32m----> 7\u001b[0;31m                                     valid_end_date='2018-07-31')\n\u001b[0m",
      "\u001b[0;32m<ipython-input-68-72893a385cef>\u001b[0m in \u001b[0;36m_eval\u001b[0;34m(model, val_x_index, val_x, val_y, valid_start_date, valid_end_date)\u001b[0m\n\u001b[1;32m     20\u001b[0m \u001b[0;34m\u001b[0m\u001b[0m\n\u001b[1;32m     21\u001b[0m         \u001b[0;31m#sub_eval_df.loc[:,'prob'] = model.predict(data=xgb.DMatrix(data=sub_eval_df[val_x.columns]))\u001b[0m\u001b[0;34m\u001b[0m\u001b[0;34m\u001b[0m\u001b[0;34m\u001b[0m\u001b[0m\n\u001b[0;32m---> 22\u001b[0;31m         \u001b[0msub_eval_df\u001b[0m\u001b[0;34m.\u001b[0m\u001b[0mloc\u001b[0m\u001b[0;34m[\u001b[0m\u001b[0;34m:\u001b[0m\u001b[0;34m,\u001b[0m\u001b[0;34m'prob'\u001b[0m\u001b[0;34m]\u001b[0m \u001b[0;34m=\u001b[0m \u001b[0mmodel\u001b[0m\u001b[0;34m.\u001b[0m\u001b[0mpredict\u001b[0m\u001b[0;34m(\u001b[0m\u001b[0mdata\u001b[0m\u001b[0;34m=\u001b[0m\u001b[0mnp\u001b[0m\u001b[0;34m.\u001b[0m\u001b[0marray\u001b[0m\u001b[0;34m(\u001b[0m\u001b[0msub_eval_df\u001b[0m\u001b[0;34m[\u001b[0m\u001b[0mval_x\u001b[0m\u001b[0;34m.\u001b[0m\u001b[0mcolumns\u001b[0m\u001b[0;34m]\u001b[0m\u001b[0;34m)\u001b[0m\u001b[0;34m)\u001b[0m\u001b[0;34m\u001b[0m\u001b[0;34m\u001b[0m\u001b[0m\n\u001b[0m\u001b[1;32m     23\u001b[0m \u001b[0;34m\u001b[0m\u001b[0m\n\u001b[1;32m     24\u001b[0m         \u001b[0msub_eval_df\u001b[0m\u001b[0;34m.\u001b[0m\u001b[0mloc\u001b[0m\u001b[0;34m[\u001b[0m\u001b[0;34m:\u001b[0m\u001b[0;34m,\u001b[0m\u001b[0;34m'rank'\u001b[0m\u001b[0;34m]\u001b[0m \u001b[0;34m=\u001b[0m \u001b[0msub_eval_df\u001b[0m\u001b[0;34m[\u001b[0m\u001b[0;34m'prob'\u001b[0m\u001b[0;34m]\u001b[0m\u001b[0;34m.\u001b[0m\u001b[0mrank\u001b[0m\u001b[0;34m(\u001b[0m\u001b[0;34m)\u001b[0m\u001b[0;34m\u001b[0m\u001b[0;34m\u001b[0m\u001b[0m\n",
      "\u001b[0;32m/opt/conda/lib/python3.7/site-packages/xgboost/core.py\u001b[0m in \u001b[0;36mpredict\u001b[0;34m(self, data, output_margin, ntree_limit, pred_leaf, pred_contribs, approx_contribs, pred_interactions, validate_features, training)\u001b[0m\n\u001b[1;32m   1438\u001b[0m         \u001b[0;32mif\u001b[0m \u001b[0;32mnot\u001b[0m \u001b[0misinstance\u001b[0m\u001b[0;34m(\u001b[0m\u001b[0mdata\u001b[0m\u001b[0;34m,\u001b[0m \u001b[0mDMatrix\u001b[0m\u001b[0;34m)\u001b[0m\u001b[0;34m:\u001b[0m\u001b[0;34m\u001b[0m\u001b[0;34m\u001b[0m\u001b[0m\n\u001b[1;32m   1439\u001b[0m             raise TypeError('Expecting data to be a DMatrix object, got: ',\n\u001b[0;32m-> 1440\u001b[0;31m                             type(data))\n\u001b[0m\u001b[1;32m   1441\u001b[0m \u001b[0;34m\u001b[0m\u001b[0m\n\u001b[1;32m   1442\u001b[0m         \u001b[0;32mif\u001b[0m \u001b[0mvalidate_features\u001b[0m\u001b[0;34m:\u001b[0m\u001b[0;34m\u001b[0m\u001b[0;34m\u001b[0m\u001b[0m\n",
      "\u001b[0;31mTypeError\u001b[0m: ('Expecting data to be a DMatrix object, got: ', <class 'numpy.ndarray'>)"
     ]
    }
   ],
   "source": [
    "eval_df, f1_score = _eval(\n",
    "                                       model,\n",
    "                                       val_x_index,\n",
    "                                       val_x,\n",
    "                                       valid_y,\n",
    "                                       valid_start_date='2018-07-01',\n",
    "                                    valid_end_date='2018-07-31')"
   ]
  },
  {
   "cell_type": "code",
   "execution_count": 37,
   "metadata": {},
   "outputs": [
    {
     "data": {
      "text/plain": [
       "0.2291881745659315"
      ]
     },
     "execution_count": 37,
     "metadata": {},
     "output_type": "execute_result"
    }
   ],
   "source": [
    "f1_score"
   ]
  },
  {
   "cell_type": "code",
   "execution_count": 49,
   "metadata": {},
   "outputs": [],
   "source": [
    "model_path = os.path.join(conf.TRAINED_MODEL_DIR, \"%s.model.%s\" % (\"xgboost\", datetime.now().isoformat()))\n",
    "save_model(model_path, \n",
    "                          (index_cols, \n",
    "                           cate_cols, \n",
    "                           cont_cols,\n",
    "                           label_cols, \n",
    "                           train_x.columns,\n",
    "                           model)\n",
    "                         )"
   ]
  },
  {
   "cell_type": "code",
   "execution_count": 50,
   "metadata": {},
   "outputs": [],
   "source": [
    "index_cols, cate_cols, cont_cols, label_cols, train_x.columns, model_new = load_model(model_path)"
   ]
  },
  {
   "cell_type": "code",
   "execution_count": 46,
   "metadata": {},
   "outputs": [],
   "source": [
    "eval_df, f1_score = _eval(\n",
    "                                       model_new,\n",
    "                                       val_x_index,\n",
    "                                       val_x,\n",
    "                                       valid_y,\n",
    "                                       valid_start_date='2018-07-01',\n",
    "                                    valid_end_date='2018-07-31')"
   ]
  },
  {
   "cell_type": "code",
   "execution_count": 47,
   "metadata": {},
   "outputs": [
    {
     "data": {
      "text/plain": [
       "0.2291881745659315"
      ]
     },
     "execution_count": 47,
     "metadata": {},
     "output_type": "execute_result"
    }
   ],
   "source": [
    "f1_score"
   ]
  },
  {
   "cell_type": "code",
   "execution_count": 66,
   "metadata": {},
   "outputs": [],
   "source": [
    "@timer(logger)\n",
    "def inference_pipeline_ensemble_tree(fe_df, \n",
    "                                     use_standard,\n",
    "                                     use_log,\n",
    "                                     scaler,\n",
    "                                     model_save_path=None,\n",
    "                                     ):\n",
    "    \n",
    "    index_cols, cate_cols, cont_cols, label_cols, features, model = load_model(model_save_path)\n",
    "    fe_df = fe_df.sort_values('dt')\n",
    "    start_date, end_date = fe_df.iloc[0]['dt'], fe_df.iloc[-1]['dt'] \n",
    "    date_range = pd.date_range(start_date, end_date, freq='D')\n",
    "#     lgb.plot_tree(model, dpi=600, show_info=['split_gain','internal_value']\n",
    "#                  )\n",
    "#     plt.show()\n",
    "#     fe_df = transform_category_column(fe_df, cate_transform_dict)\n",
    "#     print(cont_cols, model.params, model.best_iteration)\n",
    "#     print(model.feature_importance())\n",
    "    assert cate_cols is not None or cont_cols is not None, 'feature columns are empty' \n",
    "    \n",
    "    submission_df = pd.DataFrame() \n",
    "    for date in date_range:\n",
    "        logger.info('预测日期：%s'%date)\n",
    "        sub_fe_df = fe_df[fe_df.dt==date]\n",
    "        if cate_cols and not cont_cols:\n",
    "            test_features = sub_fe_df[cate_cols]\n",
    "        elif not cate_cols and cont_cols:\n",
    "            if use_standard:\n",
    "                    logger.info(\"使用标准化: %s\"%use_standard)\n",
    "                    sub_fe_df = scaler.transform(cont_cols, sub_fe_df)\n",
    "            if use_log:\n",
    "                    logger.info(\"使用log: %s\"%use_log)\n",
    "                    sub_fe_df,_ = log_scale(cont_cols, sub_fe_df)\n",
    "            test_features = sub_fe_df[cont_cols]\n",
    "        else:\n",
    "            if use_standard:\n",
    "                    logger.info(\"使用标准化: %s\"%use_standard)\n",
    "                    sub_fe_df = scaler.transform(cont_cols, sub_fe_df)\n",
    "            if use_log:\n",
    "                    logger.info(\"使用log: %s\"%use_log)\n",
    "                    sub_fe_df,_ = log_scale(cont_cols, sub_fe_df)\n",
    "            test_features = pd.concat([sub_fe_df[cate_cols], sub_fe_df[cont_cols]],\n",
    "                                      axis=1)\n",
    "\n",
    "        test_features = pd.get_dummies(test_features, columns=cate_cols)\n",
    "        \n",
    "        test_x = test_features[features]\n",
    "        ret = sub_fe_df[index_cols]\n",
    "        \n",
    "        test_x = xgb.DMatrix(data=test_x)\n",
    "        \n",
    "        ret.loc[:,'prob'] = model.predict(test_x)\n",
    "        ret.loc[:,'rank'] = ret['prob'].rank()\n",
    "        ret.loc[:,'label'] = (ret['rank']>=ret.shape[0] * CLS_RANKING).astype(int)\n",
    "        sub_submission_df = ret.loc[ret.label ==  FAULT_LABEL]\n",
    "        sub_submission_df = sub_submission_df.sort_values('prob', ascending=False)\n",
    "        top_sub_submission_df = sub_submission_df.reset_index(drop=True, inplace=False).iloc[:NUM_SUBMISSION]\n",
    "        logger.info('原始预测为fault disk的个数：%s'%len(sub_submission_df))\n",
    "        \n",
    "        top_sub_submission_df.loc[:,'manufacturer'] = 'A'\n",
    "        submission_df = pd.concat([submission_df, top_sub_submission_df[['manufacturer',\n",
    "                                                                         'model',\n",
    "                                                                         'serial_number',\n",
    "                                                                         'dt']]])\n",
    "    csv_save_filename = 'submission_%s.csv'%datetime.now().isoformat()\n",
    "    csv_save_path = os.path.join(conf.ROOT_DIR, csv_save_filename)\n",
    "    submission_df = submission_df.drop_duplicates(['serial_number', 'model'])\n",
    "    submission_df.to_csv(csv_save_path, index=False, header=False)\n",
    "    zip_save_path = os.path.join(conf.ROOT_DIR, 'result_test.zip')\n",
    "    #with ZipFile(zip_save_path,'w') as zf:\n",
    "              #zf.write(csv_save_path, compress_type=ZIP_DEFLATED)\n",
    "   \n",
    "    logger.info('最终提交样本个数：%s'%len(submission_df))\n",
    "    logger.info('csv文件%s已保存至%s，zip文件已保存至%s'%( \n",
    "                                                           csv_save_filename,\n",
    "                                                           csv_save_path,\n",
    "                                                           zip_save_path\n",
    "        ))\n",
    "    \n",
    "    return submission_df"
   ]
  },
  {
   "cell_type": "code",
   "execution_count": 54,
   "metadata": {},
   "outputs": [],
   "source": [
    "import conf\n",
    "from mlpipeline.train import (\n",
    "                    CLS_RANKING,\n",
    "                    NUM_SUBMISSION)\n",
    "from mlpipeline.feature_engineering import (\n",
    "    USING_LABEL,\n",
    "    FAULT_LABEL,\n",
    "    feature_engineering\n",
    ")"
   ]
  },
  {
   "cell_type": "code",
   "execution_count": 55,
   "metadata": {},
   "outputs": [
    {
     "name": "stderr",
     "output_type": "stream",
     "text": [
      "2020-04-03 15:13:31,179 - mlpipeline.feature_engineering - INFO - feature_engineering开始\n",
      "2020-04-03 15:13:31,182 - mlpipeline.feature_engineering - INFO - 训练数据特征工程: False，数据集截断起始日期：None, 数据集截断结束日期：None\n",
      "2020-04-03 15:13:31,183 - mlpipeline.feature_engineering - INFO - _load_data_into_dataframe开始\n",
      "2020-04-03 15:13:31,184 - mlpipeline.feature_engineering - INFO - 加载数据集: ../tcdata/disk_sample_smart_log_round2\n",
      "2020-04-03 15:13:31,185 - mlpipeline.feature_engineering - INFO - _get_pred_data开始\n"
     ]
    },
    {
     "ename": "FileNotFoundError",
     "evalue": "[Errno 2] File b'../tcdata/disk_sample_smart_log_round2/disk_sample_smart_log_20180814_round2.csv' does not exist: b'../tcdata/disk_sample_smart_log_round2/disk_sample_smart_log_20180814_round2.csv'",
     "output_type": "error",
     "traceback": [
      "\u001b[0;31m---------------------------------------------------------------------------\u001b[0m",
      "\u001b[0;31mFileNotFoundError\u001b[0m                         Traceback (most recent call last)",
      "\u001b[0;32m<ipython-input-55-afbe3ae3a22f>\u001b[0m in \u001b[0;36m<module>\u001b[0;34m\u001b[0m\n\u001b[1;32m     38\u001b[0m \u001b[0;34m\u001b[0m\u001b[0m\n\u001b[1;32m     39\u001b[0m \u001b[0;34m\u001b[0m\u001b[0m\n\u001b[0;32m---> 40\u001b[0;31m \u001b[0mpredict\u001b[0m\u001b[0;34m(\u001b[0m\u001b[0;34m)\u001b[0m\u001b[0;34m\u001b[0m\u001b[0;34m\u001b[0m\u001b[0m\n\u001b[0m",
      "\u001b[0;32m/home/TianChi_AI_Ops/src/utils/utils.py\u001b[0m in \u001b[0;36mwrapper\u001b[0;34m(*args, **kwargs)\u001b[0m\n\u001b[1;32m     42\u001b[0m             \u001b[0mlogger\u001b[0m\u001b[0;34m.\u001b[0m\u001b[0minfo\u001b[0m\u001b[0;34m(\u001b[0m\u001b[0;34m'%s开始'\u001b[0m\u001b[0;34m%\u001b[0m\u001b[0mfunc\u001b[0m\u001b[0;34m.\u001b[0m\u001b[0m__name__\u001b[0m\u001b[0;34m)\u001b[0m\u001b[0;34m\u001b[0m\u001b[0;34m\u001b[0m\u001b[0m\n\u001b[1;32m     43\u001b[0m             \u001b[0mstart_time\u001b[0m \u001b[0;34m=\u001b[0m \u001b[0mtime\u001b[0m\u001b[0;34m(\u001b[0m\u001b[0;34m)\u001b[0m\u001b[0;34m\u001b[0m\u001b[0;34m\u001b[0m\u001b[0m\n\u001b[0;32m---> 44\u001b[0;31m             \u001b[0mresult\u001b[0m \u001b[0;34m=\u001b[0m \u001b[0mfunc\u001b[0m\u001b[0;34m(\u001b[0m\u001b[0;34m*\u001b[0m\u001b[0margs\u001b[0m\u001b[0;34m,\u001b[0m \u001b[0;34m**\u001b[0m\u001b[0mkwargs\u001b[0m\u001b[0;34m)\u001b[0m\u001b[0;34m\u001b[0m\u001b[0;34m\u001b[0m\u001b[0m\n\u001b[0m\u001b[1;32m     45\u001b[0m             \u001b[0mend_time\u001b[0m \u001b[0;34m=\u001b[0m \u001b[0mtime\u001b[0m\u001b[0;34m(\u001b[0m\u001b[0;34m)\u001b[0m\u001b[0;34m\u001b[0m\u001b[0;34m\u001b[0m\u001b[0m\n\u001b[1;32m     46\u001b[0m             logger.info('%s已完成，共用时%s'%(\n",
      "\u001b[0;32m<ipython-input-55-afbe3ae3a22f>\u001b[0m in \u001b[0;36mpredict\u001b[0;34m(model_name, pred_start_date, pred_end_date, use_standard, scaler, use_log, num_processes, is_train)\u001b[0m\n\u001b[1;32m     15\u001b[0m                                      \u001b[0mpred_end_date\u001b[0m \u001b[0;34m=\u001b[0m \u001b[0mpred_end_date\u001b[0m\u001b[0;34m,\u001b[0m\u001b[0;34m\u001b[0m\u001b[0;34m\u001b[0m\u001b[0m\n\u001b[1;32m     16\u001b[0m                                      \u001b[0mis_train\u001b[0m\u001b[0;34m=\u001b[0m\u001b[0;32mFalse\u001b[0m\u001b[0;34m,\u001b[0m\u001b[0;34m\u001b[0m\u001b[0;34m\u001b[0m\u001b[0m\n\u001b[0;32m---> 17\u001b[0;31m                                      num_processes=num_processes)\n\u001b[0m\u001b[1;32m     18\u001b[0m     logger.info(\"预测样本数:%s, 分类阈值: %s, 分类每日截断个数：%s\" % (test_fe_df.shape[0],\n\u001b[1;32m     19\u001b[0m                                                                 \u001b[0mCLS_RANKING\u001b[0m\u001b[0;34m,\u001b[0m\u001b[0;34m\u001b[0m\u001b[0;34m\u001b[0m\u001b[0m\n",
      "\u001b[0;32m/home/TianChi_AI_Ops/src/utils/utils.py\u001b[0m in \u001b[0;36mwrapper\u001b[0;34m(*args, **kwargs)\u001b[0m\n\u001b[1;32m     42\u001b[0m             \u001b[0mlogger\u001b[0m\u001b[0;34m.\u001b[0m\u001b[0minfo\u001b[0m\u001b[0;34m(\u001b[0m\u001b[0;34m'%s开始'\u001b[0m\u001b[0;34m%\u001b[0m\u001b[0mfunc\u001b[0m\u001b[0;34m.\u001b[0m\u001b[0m__name__\u001b[0m\u001b[0;34m)\u001b[0m\u001b[0;34m\u001b[0m\u001b[0;34m\u001b[0m\u001b[0m\n\u001b[1;32m     43\u001b[0m             \u001b[0mstart_time\u001b[0m \u001b[0;34m=\u001b[0m \u001b[0mtime\u001b[0m\u001b[0;34m(\u001b[0m\u001b[0;34m)\u001b[0m\u001b[0;34m\u001b[0m\u001b[0;34m\u001b[0m\u001b[0m\n\u001b[0;32m---> 44\u001b[0;31m             \u001b[0mresult\u001b[0m \u001b[0;34m=\u001b[0m \u001b[0mfunc\u001b[0m\u001b[0;34m(\u001b[0m\u001b[0;34m*\u001b[0m\u001b[0margs\u001b[0m\u001b[0;34m,\u001b[0m \u001b[0;34m**\u001b[0m\u001b[0mkwargs\u001b[0m\u001b[0;34m)\u001b[0m\u001b[0;34m\u001b[0m\u001b[0;34m\u001b[0m\u001b[0m\n\u001b[0m\u001b[1;32m     45\u001b[0m             \u001b[0mend_time\u001b[0m \u001b[0;34m=\u001b[0m \u001b[0mtime\u001b[0m\u001b[0;34m(\u001b[0m\u001b[0;34m)\u001b[0m\u001b[0;34m\u001b[0m\u001b[0;34m\u001b[0m\u001b[0m\n\u001b[1;32m     46\u001b[0m             logger.info('%s已完成，共用时%s'%(\n",
      "\u001b[0;32m/home/TianChi_AI_Ops/src/mlpipeline/feature_engineering.py\u001b[0m in \u001b[0;36mfeature_engineering\u001b[0;34m(filename, fe_save_filename, is_train, use_2017_fault_data, clip_start_date, clip_end_date, pred_start_date, pred_end_date, use_model_id, num_processes)\u001b[0m\n\u001b[1;32m    439\u001b[0m     \u001b[0;31m# load dataset\u001b[0m\u001b[0;34m\u001b[0m\u001b[0;34m\u001b[0m\u001b[0;34m\u001b[0m\u001b[0m\n\u001b[1;32m    440\u001b[0m     disk_smart_df = _load_data_into_dataframe(filename,\n\u001b[0;32m--> 441\u001b[0;31m                                 is_train)\n\u001b[0m\u001b[1;32m    442\u001b[0m \u001b[0;34m\u001b[0m\u001b[0m\n\u001b[1;32m    443\u001b[0m     \u001b[0;31m# preprocess data\u001b[0m\u001b[0;34m\u001b[0m\u001b[0;34m\u001b[0m\u001b[0;34m\u001b[0m\u001b[0m\n",
      "\u001b[0;32m/home/TianChi_AI_Ops/src/utils/utils.py\u001b[0m in \u001b[0;36mwrapper\u001b[0;34m(*args, **kwargs)\u001b[0m\n\u001b[1;32m     42\u001b[0m             \u001b[0mlogger\u001b[0m\u001b[0;34m.\u001b[0m\u001b[0minfo\u001b[0m\u001b[0;34m(\u001b[0m\u001b[0;34m'%s开始'\u001b[0m\u001b[0;34m%\u001b[0m\u001b[0mfunc\u001b[0m\u001b[0;34m.\u001b[0m\u001b[0m__name__\u001b[0m\u001b[0;34m)\u001b[0m\u001b[0;34m\u001b[0m\u001b[0;34m\u001b[0m\u001b[0m\n\u001b[1;32m     43\u001b[0m             \u001b[0mstart_time\u001b[0m \u001b[0;34m=\u001b[0m \u001b[0mtime\u001b[0m\u001b[0;34m(\u001b[0m\u001b[0;34m)\u001b[0m\u001b[0;34m\u001b[0m\u001b[0;34m\u001b[0m\u001b[0m\n\u001b[0;32m---> 44\u001b[0;31m             \u001b[0mresult\u001b[0m \u001b[0;34m=\u001b[0m \u001b[0mfunc\u001b[0m\u001b[0;34m(\u001b[0m\u001b[0;34m*\u001b[0m\u001b[0margs\u001b[0m\u001b[0;34m,\u001b[0m \u001b[0;34m**\u001b[0m\u001b[0mkwargs\u001b[0m\u001b[0;34m)\u001b[0m\u001b[0;34m\u001b[0m\u001b[0;34m\u001b[0m\u001b[0m\n\u001b[0m\u001b[1;32m     45\u001b[0m             \u001b[0mend_time\u001b[0m \u001b[0;34m=\u001b[0m \u001b[0mtime\u001b[0m\u001b[0;34m(\u001b[0m\u001b[0;34m)\u001b[0m\u001b[0;34m\u001b[0m\u001b[0;34m\u001b[0m\u001b[0m\n\u001b[1;32m     46\u001b[0m             logger.info('%s已完成，共用时%s'%(\n",
      "\u001b[0;32m/home/TianChi_AI_Ops/src/mlpipeline/feature_engineering.py\u001b[0m in \u001b[0;36m_load_data_into_dataframe\u001b[0;34m(filename, is_train)\u001b[0m\n\u001b[1;32m    328\u001b[0m     \u001b[0mstart_time\u001b[0m \u001b[0;34m=\u001b[0m \u001b[0mtime\u001b[0m\u001b[0;34m(\u001b[0m\u001b[0;34m)\u001b[0m\u001b[0;34m\u001b[0m\u001b[0;34m\u001b[0m\u001b[0m\n\u001b[1;32m    329\u001b[0m     \u001b[0;32mif\u001b[0m \u001b[0;32mnot\u001b[0m \u001b[0mis_train\u001b[0m\u001b[0;34m:\u001b[0m\u001b[0;34m\u001b[0m\u001b[0;34m\u001b[0m\u001b[0m\n\u001b[0;32m--> 330\u001b[0;31m         \u001b[0mdisk_smart_df\u001b[0m \u001b[0;34m=\u001b[0m \u001b[0m_get_pred_data\u001b[0m\u001b[0;34m(\u001b[0m\u001b[0mdata_path\u001b[0m\u001b[0;34m)\u001b[0m\u001b[0;34m\u001b[0m\u001b[0;34m\u001b[0m\u001b[0m\n\u001b[0m\u001b[1;32m    331\u001b[0m \u001b[0;34m\u001b[0m\u001b[0m\n\u001b[1;32m    332\u001b[0m     \u001b[0;31m# the store format for pre-processed train data is h5\u001b[0m\u001b[0;34m\u001b[0m\u001b[0;34m\u001b[0m\u001b[0;34m\u001b[0m\u001b[0m\n",
      "\u001b[0;32m/home/TianChi_AI_Ops/src/utils/utils.py\u001b[0m in \u001b[0;36mwrapper\u001b[0;34m(*args, **kwargs)\u001b[0m\n\u001b[1;32m     42\u001b[0m             \u001b[0mlogger\u001b[0m\u001b[0;34m.\u001b[0m\u001b[0minfo\u001b[0m\u001b[0;34m(\u001b[0m\u001b[0;34m'%s开始'\u001b[0m\u001b[0;34m%\u001b[0m\u001b[0mfunc\u001b[0m\u001b[0;34m.\u001b[0m\u001b[0m__name__\u001b[0m\u001b[0;34m)\u001b[0m\u001b[0;34m\u001b[0m\u001b[0;34m\u001b[0m\u001b[0m\n\u001b[1;32m     43\u001b[0m             \u001b[0mstart_time\u001b[0m \u001b[0;34m=\u001b[0m \u001b[0mtime\u001b[0m\u001b[0;34m(\u001b[0m\u001b[0;34m)\u001b[0m\u001b[0;34m\u001b[0m\u001b[0;34m\u001b[0m\u001b[0m\n\u001b[0;32m---> 44\u001b[0;31m             \u001b[0mresult\u001b[0m \u001b[0;34m=\u001b[0m \u001b[0mfunc\u001b[0m\u001b[0;34m(\u001b[0m\u001b[0;34m*\u001b[0m\u001b[0margs\u001b[0m\u001b[0;34m,\u001b[0m \u001b[0;34m**\u001b[0m\u001b[0mkwargs\u001b[0m\u001b[0;34m)\u001b[0m\u001b[0;34m\u001b[0m\u001b[0;34m\u001b[0m\u001b[0m\n\u001b[0m\u001b[1;32m     45\u001b[0m             \u001b[0mend_time\u001b[0m \u001b[0;34m=\u001b[0m \u001b[0mtime\u001b[0m\u001b[0;34m(\u001b[0m\u001b[0;34m)\u001b[0m\u001b[0;34m\u001b[0m\u001b[0;34m\u001b[0m\u001b[0m\n\u001b[1;32m     46\u001b[0m             logger.info('%s已完成，共用时%s'%(\n",
      "\u001b[0;32m/home/TianChi_AI_Ops/src/mlpipeline/feature_engineering.py\u001b[0m in \u001b[0;36m_get_pred_data\u001b[0;34m(data_path)\u001b[0m\n\u001b[1;32m    315\u001b[0m                          \u001b[0musecols\u001b[0m\u001b[0;34m=\u001b[0m\u001b[0mSELECTED_CONT_COLS\u001b[0m \u001b[0;34m+\u001b[0m\u001b[0;34m\u001b[0m\u001b[0;34m\u001b[0m\u001b[0m\n\u001b[1;32m    316\u001b[0m                                  \u001b[0mSELECTED_INDEX_COLS\u001b[0m \u001b[0;34m+\u001b[0m\u001b[0;34m\u001b[0m\u001b[0;34m\u001b[0m\u001b[0m\n\u001b[0;32m--> 317\u001b[0;31m                                  SELECTED_CATE_COLS)\n\u001b[0m\u001b[1;32m    318\u001b[0m         \u001b[0mdf\u001b[0m \u001b[0;34m=\u001b[0m \u001b[0mpd\u001b[0m\u001b[0;34m.\u001b[0m\u001b[0mconcat\u001b[0m\u001b[0;34m(\u001b[0m\u001b[0;34m[\u001b[0m\u001b[0mdf\u001b[0m\u001b[0;34m,\u001b[0m \u001b[0mtmp_df\u001b[0m\u001b[0;34m]\u001b[0m\u001b[0;34m)\u001b[0m\u001b[0;34m\u001b[0m\u001b[0;34m\u001b[0m\u001b[0m\n\u001b[1;32m    319\u001b[0m     \u001b[0;32mreturn\u001b[0m \u001b[0mdf\u001b[0m\u001b[0;34m\u001b[0m\u001b[0;34m\u001b[0m\u001b[0m\n",
      "\u001b[0;32m/opt/conda/lib/python3.7/site-packages/pandas/io/parsers.py\u001b[0m in \u001b[0;36mparser_f\u001b[0;34m(filepath_or_buffer, sep, delimiter, header, names, index_col, usecols, squeeze, prefix, mangle_dupe_cols, dtype, engine, converters, true_values, false_values, skipinitialspace, skiprows, skipfooter, nrows, na_values, keep_default_na, na_filter, verbose, skip_blank_lines, parse_dates, infer_datetime_format, keep_date_col, date_parser, dayfirst, cache_dates, iterator, chunksize, compression, thousands, decimal, lineterminator, quotechar, quoting, doublequote, escapechar, comment, encoding, dialect, error_bad_lines, warn_bad_lines, delim_whitespace, low_memory, memory_map, float_precision)\u001b[0m\n\u001b[1;32m    683\u001b[0m         )\n\u001b[1;32m    684\u001b[0m \u001b[0;34m\u001b[0m\u001b[0m\n\u001b[0;32m--> 685\u001b[0;31m         \u001b[0;32mreturn\u001b[0m \u001b[0m_read\u001b[0m\u001b[0;34m(\u001b[0m\u001b[0mfilepath_or_buffer\u001b[0m\u001b[0;34m,\u001b[0m \u001b[0mkwds\u001b[0m\u001b[0;34m)\u001b[0m\u001b[0;34m\u001b[0m\u001b[0;34m\u001b[0m\u001b[0m\n\u001b[0m\u001b[1;32m    686\u001b[0m \u001b[0;34m\u001b[0m\u001b[0m\n\u001b[1;32m    687\u001b[0m     \u001b[0mparser_f\u001b[0m\u001b[0;34m.\u001b[0m\u001b[0m__name__\u001b[0m \u001b[0;34m=\u001b[0m \u001b[0mname\u001b[0m\u001b[0;34m\u001b[0m\u001b[0;34m\u001b[0m\u001b[0m\n",
      "\u001b[0;32m/opt/conda/lib/python3.7/site-packages/pandas/io/parsers.py\u001b[0m in \u001b[0;36m_read\u001b[0;34m(filepath_or_buffer, kwds)\u001b[0m\n\u001b[1;32m    455\u001b[0m \u001b[0;34m\u001b[0m\u001b[0m\n\u001b[1;32m    456\u001b[0m     \u001b[0;31m# Create the parser.\u001b[0m\u001b[0;34m\u001b[0m\u001b[0;34m\u001b[0m\u001b[0;34m\u001b[0m\u001b[0m\n\u001b[0;32m--> 457\u001b[0;31m     \u001b[0mparser\u001b[0m \u001b[0;34m=\u001b[0m \u001b[0mTextFileReader\u001b[0m\u001b[0;34m(\u001b[0m\u001b[0mfp_or_buf\u001b[0m\u001b[0;34m,\u001b[0m \u001b[0;34m**\u001b[0m\u001b[0mkwds\u001b[0m\u001b[0;34m)\u001b[0m\u001b[0;34m\u001b[0m\u001b[0;34m\u001b[0m\u001b[0m\n\u001b[0m\u001b[1;32m    458\u001b[0m \u001b[0;34m\u001b[0m\u001b[0m\n\u001b[1;32m    459\u001b[0m     \u001b[0;32mif\u001b[0m \u001b[0mchunksize\u001b[0m \u001b[0;32mor\u001b[0m \u001b[0miterator\u001b[0m\u001b[0;34m:\u001b[0m\u001b[0;34m\u001b[0m\u001b[0;34m\u001b[0m\u001b[0m\n",
      "\u001b[0;32m/opt/conda/lib/python3.7/site-packages/pandas/io/parsers.py\u001b[0m in \u001b[0;36m__init__\u001b[0;34m(self, f, engine, **kwds)\u001b[0m\n\u001b[1;32m    893\u001b[0m             \u001b[0mself\u001b[0m\u001b[0;34m.\u001b[0m\u001b[0moptions\u001b[0m\u001b[0;34m[\u001b[0m\u001b[0;34m\"has_index_names\"\u001b[0m\u001b[0;34m]\u001b[0m \u001b[0;34m=\u001b[0m \u001b[0mkwds\u001b[0m\u001b[0;34m[\u001b[0m\u001b[0;34m\"has_index_names\"\u001b[0m\u001b[0;34m]\u001b[0m\u001b[0;34m\u001b[0m\u001b[0;34m\u001b[0m\u001b[0m\n\u001b[1;32m    894\u001b[0m \u001b[0;34m\u001b[0m\u001b[0m\n\u001b[0;32m--> 895\u001b[0;31m         \u001b[0mself\u001b[0m\u001b[0;34m.\u001b[0m\u001b[0m_make_engine\u001b[0m\u001b[0;34m(\u001b[0m\u001b[0mself\u001b[0m\u001b[0;34m.\u001b[0m\u001b[0mengine\u001b[0m\u001b[0;34m)\u001b[0m\u001b[0;34m\u001b[0m\u001b[0;34m\u001b[0m\u001b[0m\n\u001b[0m\u001b[1;32m    896\u001b[0m \u001b[0;34m\u001b[0m\u001b[0m\n\u001b[1;32m    897\u001b[0m     \u001b[0;32mdef\u001b[0m \u001b[0mclose\u001b[0m\u001b[0;34m(\u001b[0m\u001b[0mself\u001b[0m\u001b[0;34m)\u001b[0m\u001b[0;34m:\u001b[0m\u001b[0;34m\u001b[0m\u001b[0;34m\u001b[0m\u001b[0m\n",
      "\u001b[0;32m/opt/conda/lib/python3.7/site-packages/pandas/io/parsers.py\u001b[0m in \u001b[0;36m_make_engine\u001b[0;34m(self, engine)\u001b[0m\n\u001b[1;32m   1133\u001b[0m     \u001b[0;32mdef\u001b[0m \u001b[0m_make_engine\u001b[0m\u001b[0;34m(\u001b[0m\u001b[0mself\u001b[0m\u001b[0;34m,\u001b[0m \u001b[0mengine\u001b[0m\u001b[0;34m=\u001b[0m\u001b[0;34m\"c\"\u001b[0m\u001b[0;34m)\u001b[0m\u001b[0;34m:\u001b[0m\u001b[0;34m\u001b[0m\u001b[0;34m\u001b[0m\u001b[0m\n\u001b[1;32m   1134\u001b[0m         \u001b[0;32mif\u001b[0m \u001b[0mengine\u001b[0m \u001b[0;34m==\u001b[0m \u001b[0;34m\"c\"\u001b[0m\u001b[0;34m:\u001b[0m\u001b[0;34m\u001b[0m\u001b[0;34m\u001b[0m\u001b[0m\n\u001b[0;32m-> 1135\u001b[0;31m             \u001b[0mself\u001b[0m\u001b[0;34m.\u001b[0m\u001b[0m_engine\u001b[0m \u001b[0;34m=\u001b[0m \u001b[0mCParserWrapper\u001b[0m\u001b[0;34m(\u001b[0m\u001b[0mself\u001b[0m\u001b[0;34m.\u001b[0m\u001b[0mf\u001b[0m\u001b[0;34m,\u001b[0m \u001b[0;34m**\u001b[0m\u001b[0mself\u001b[0m\u001b[0;34m.\u001b[0m\u001b[0moptions\u001b[0m\u001b[0;34m)\u001b[0m\u001b[0;34m\u001b[0m\u001b[0;34m\u001b[0m\u001b[0m\n\u001b[0m\u001b[1;32m   1136\u001b[0m         \u001b[0;32melse\u001b[0m\u001b[0;34m:\u001b[0m\u001b[0;34m\u001b[0m\u001b[0;34m\u001b[0m\u001b[0m\n\u001b[1;32m   1137\u001b[0m             \u001b[0;32mif\u001b[0m \u001b[0mengine\u001b[0m \u001b[0;34m==\u001b[0m \u001b[0;34m\"python\"\u001b[0m\u001b[0;34m:\u001b[0m\u001b[0;34m\u001b[0m\u001b[0;34m\u001b[0m\u001b[0m\n",
      "\u001b[0;32m/opt/conda/lib/python3.7/site-packages/pandas/io/parsers.py\u001b[0m in \u001b[0;36m__init__\u001b[0;34m(self, src, **kwds)\u001b[0m\n\u001b[1;32m   1915\u001b[0m         \u001b[0mkwds\u001b[0m\u001b[0;34m[\u001b[0m\u001b[0;34m\"usecols\"\u001b[0m\u001b[0;34m]\u001b[0m \u001b[0;34m=\u001b[0m \u001b[0mself\u001b[0m\u001b[0;34m.\u001b[0m\u001b[0musecols\u001b[0m\u001b[0;34m\u001b[0m\u001b[0;34m\u001b[0m\u001b[0m\n\u001b[1;32m   1916\u001b[0m \u001b[0;34m\u001b[0m\u001b[0m\n\u001b[0;32m-> 1917\u001b[0;31m         \u001b[0mself\u001b[0m\u001b[0;34m.\u001b[0m\u001b[0m_reader\u001b[0m \u001b[0;34m=\u001b[0m \u001b[0mparsers\u001b[0m\u001b[0;34m.\u001b[0m\u001b[0mTextReader\u001b[0m\u001b[0;34m(\u001b[0m\u001b[0msrc\u001b[0m\u001b[0;34m,\u001b[0m \u001b[0;34m**\u001b[0m\u001b[0mkwds\u001b[0m\u001b[0;34m)\u001b[0m\u001b[0;34m\u001b[0m\u001b[0;34m\u001b[0m\u001b[0m\n\u001b[0m\u001b[1;32m   1918\u001b[0m         \u001b[0mself\u001b[0m\u001b[0;34m.\u001b[0m\u001b[0munnamed_cols\u001b[0m \u001b[0;34m=\u001b[0m \u001b[0mself\u001b[0m\u001b[0;34m.\u001b[0m\u001b[0m_reader\u001b[0m\u001b[0;34m.\u001b[0m\u001b[0munnamed_cols\u001b[0m\u001b[0;34m\u001b[0m\u001b[0;34m\u001b[0m\u001b[0m\n\u001b[1;32m   1919\u001b[0m \u001b[0;34m\u001b[0m\u001b[0m\n",
      "\u001b[0;32mpandas/_libs/parsers.pyx\u001b[0m in \u001b[0;36mpandas._libs.parsers.TextReader.__cinit__\u001b[0;34m()\u001b[0m\n",
      "\u001b[0;32mpandas/_libs/parsers.pyx\u001b[0m in \u001b[0;36mpandas._libs.parsers.TextReader._setup_parser_source\u001b[0;34m()\u001b[0m\n",
      "\u001b[0;31mFileNotFoundError\u001b[0m: [Errno 2] File b'../tcdata/disk_sample_smart_log_round2/disk_sample_smart_log_20180814_round2.csv' does not exist: b'../tcdata/disk_sample_smart_log_round2/disk_sample_smart_log_20180814_round2.csv'"
     ]
    }
   ],
   "source": [
    "@timer(logger)\n",
    "def predict( \n",
    "    model_name='lgb', \n",
    "    pred_start_date='2018-09-01',\n",
    "    pred_end_date='2018-09-30',\n",
    "    use_standard=False,\n",
    "    scaler='',\n",
    "    use_log=False,\n",
    "    num_processes=17,\n",
    "    is_train=False\n",
    "):\n",
    "    logger.info(\"开始预测, 当前使用模型:%s\"% (model_name))\n",
    "    test_fe_df = feature_engineering(\n",
    "                                     pred_start_date = pred_start_date,\n",
    "                                     pred_end_date = pred_end_date,\n",
    "                                     is_train=False,\n",
    "                                     num_processes=num_processes)\n",
    "    logger.info(\"预测样本数:%s, 分类阈值: %s, 分类每日截断个数：%s\" % (test_fe_df.shape[0],\n",
    "                                                                CLS_RANKING,\n",
    "                                                                NUM_SUBMISSION))\n",
    "    model_save_path = get_latest_model(conf.TRAINED_MODEL_DIR, '%s.model' % model_name)\n",
    "    if model_name == 'lgb':\n",
    "         submission_df = inference_pipeline_ensemble_tree(test_fe_df, \n",
    "                                                              use_standard,\n",
    "                                                              use_log,\n",
    "                                                              scaler,\n",
    "                                                              model_save_path=model_save_path,\n",
    "                                                              )\n",
    "    elif model_type == 'stacking':\n",
    "        # TODO:增加stacking部分inference pipeline\n",
    "        raise NotImplementedError('%s has not been implemented' % model_name)\n",
    "    else:\n",
    "        # TODO:增加神经网络部分\n",
    "        raise NotImplementedError('%s was not been implemented' % model_name)\n",
    "   \n",
    "    logger.info(\"%s预测完成!\" % model_name) \n",
    "    return  submission_df\n",
    "\n",
    "\n",
    "predict()"
   ]
  },
  {
   "cell_type": "code",
   "execution_count": 67,
   "metadata": {},
   "outputs": [],
   "source": [
    "submission_df = inference_pipeline_ensemble_tree(val_fe_df, False, False, '',\n",
    "                                                              model_save_path=model_path\n",
    "                                                              )"
   ]
  },
  {
   "cell_type": "code",
   "execution_count": null,
   "metadata": {},
   "outputs": [],
   "source": []
  }
 ],
 "metadata": {
  "kernelspec": {
   "display_name": "Python 3",
   "language": "python",
   "name": "python3"
  },
  "language_info": {
   "codemirror_mode": {
    "name": "ipython",
    "version": 3
   },
   "file_extension": ".py",
   "mimetype": "text/x-python",
   "name": "python",
   "nbconvert_exporter": "python",
   "pygments_lexer": "ipython3",
   "version": "3.7.4"
  }
 },
 "nbformat": 4,
 "nbformat_minor": 4
}
