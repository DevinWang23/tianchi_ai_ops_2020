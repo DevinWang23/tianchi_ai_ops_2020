{
 "cells": [
  {
   "cell_type": "markdown",
   "metadata": {},
   "source": [
    "# Data Analysis and Cleaning\n",
    "analysis data and do some dirty work for cleaning\n",
    "- <a href='#1'>1. analysis data</a> \n",
    "- <a href='#2'>2. task2</a> \n",
    "- <a href='#3'>3. task3</a>"
   ]
  },
  {
   "cell_type": "code",
   "execution_count": 1,
   "metadata": {},
   "outputs": [],
   "source": [
    "import sys\n",
    "import os \n",
    "\n",
    "from datetime import datetime\n",
    "\n",
    "import pandas as pd\n",
    "import numpy as np\n",
    "from IPython.core.interactiveshell import InteractiveShell\n",
    "import seaborn as sns\n",
    "import matplotlib.pyplot as plt\n",
    "import matplotlib.font_manager as fm\n",
    "\n",
    "sys.path.append('../')\n",
    "import conf"
   ]
  },
  {
   "cell_type": "code",
   "execution_count": 2,
   "metadata": {},
   "outputs": [],
   "source": [
    "# global settings\n",
    "InteractiveShell.ast_node_interactivity = \"all\"\n",
    "pd.set_option('display.max_rows', 50)\n",
    "pd.set_option('display.max_columns',1000)\n",
    "pd.set_option('display.width',100)\n",
    "sns.set(rc={'figure.figsize':(11,4)})\n",
    "font = fm.FontProperties(fname = os.path.join(conf.LIB_DIR,'simsun.ttc'))"
   ]
  },
  {
   "cell_type": "code",
   "execution_count": 3,
   "metadata": {},
   "outputs": [],
   "source": [
    "# global variables\n",
    "DEFAULT_MISSING_VALUE = 0"
   ]
  },
  {
   "cell_type": "code",
   "execution_count": 4,
   "metadata": {},
   "outputs": [],
   "source": [
    "# functions\n",
    "def __dummy():\n",
    "    pass\n",
    "\n",
    "def diivide_files_into_raw_and_normalized():\n",
    "    pass"
   ]
  },
  {
   "cell_type": "markdown",
   "metadata": {},
   "source": [
    "### <a id='1'> 1.task1</a>"
   ]
  },
  {
   "cell_type": "code",
   "execution_count": 5,
   "metadata": {},
   "outputs": [],
   "source": [
    "# disk_sample_fault_tag\n",
    "fault_tag_df = pd.read_csv(os.path.join(conf.DATA_DIR,'disk_sample_fault_tag.csv'))"
   ]
  },
  {
   "cell_type": "code",
   "execution_count": 25,
   "metadata": {},
   "outputs": [
    {
     "data": {
      "text/plain": [
       "0    473\n",
       "2    200\n",
       "3    171\n",
       "1    171\n",
       "6    153\n",
       "5     64\n",
       "4     60\n",
       "Name: tag, dtype: int64"
      ]
     },
     "execution_count": 25,
     "metadata": {},
     "output_type": "execute_result"
    }
   ],
   "source": [
    "fault_tag_df[\"tag\"].value_counts()"
   ]
  },
  {
   "cell_type": "code",
   "execution_count": 56,
   "metadata": {},
   "outputs": [
    {
     "name": "stdout",
     "output_type": "stream",
     "text": [
      "[('201807', 167), ('201806', 138), ('201801', 128), ('201803', 119), ('201804', 117), ('201802', 108), ('201805', 104), ('201709', 93), ('201708', 82), ('201711', 81), ('201710', 80), ('201707', 55), ('201712', 20)]\n"
     ]
    }
   ],
   "source": [
    "#display num of faults and type of faults in different months\n",
    "fault_num = {}\n",
    "fault_type = {}\n",
    "tags = [0, 1, 2, 3, 4, 5, 6]\n",
    "\n",
    "for index, row in fault_tag_df.iterrows():\n",
    "    f_time = row[\"fault_time\"].split('-')\n",
    "    tag = int(row[\"tag\"])\n",
    "    month = f_time[0] + f_time[1]\n",
    "    if month not in fault_num:\n",
    "        fault_num[month] = 0\n",
    "    if month not in fault_type:\n",
    "        fault_type[month] = [0]*7\n",
    "    fault_num[month] += 1\n",
    "    fault_type[month][tag] += 1\n",
    "    \n",
    "print(sorted(fault_num.items(), key = lambda item:item[1], reverse = True))"
   ]
  },
  {
   "cell_type": "code",
   "execution_count": 60,
   "metadata": {},
   "outputs": [
    {
     "data": {
      "text/html": [
       "<div>\n",
       "<style scoped>\n",
       "    .dataframe tbody tr th:only-of-type {\n",
       "        vertical-align: middle;\n",
       "    }\n",
       "\n",
       "    .dataframe tbody tr th {\n",
       "        vertical-align: top;\n",
       "    }\n",
       "\n",
       "    .dataframe thead th {\n",
       "        text-align: right;\n",
       "    }\n",
       "</style>\n",
       "<table border=\"1\" class=\"dataframe\">\n",
       "  <thead>\n",
       "    <tr style=\"text-align: right;\">\n",
       "      <th></th>\n",
       "      <th>manufacturer</th>\n",
       "      <th>model</th>\n",
       "      <th>serial_number</th>\n",
       "      <th>fault_time</th>\n",
       "      <th>tag</th>\n",
       "    </tr>\n",
       "  </thead>\n",
       "  <tbody>\n",
       "    <tr>\n",
       "      <th>12</th>\n",
       "      <td>A</td>\n",
       "      <td>1</td>\n",
       "      <td>disk_110667</td>\n",
       "      <td>2017-07-23</td>\n",
       "      <td>0</td>\n",
       "    </tr>\n",
       "  </tbody>\n",
       "</table>\n",
       "</div>"
      ],
      "text/plain": [
       "   manufacturer  model serial_number  fault_time  tag\n",
       "12            A      1   disk_110667  2017-07-23    0"
      ]
     },
     "execution_count": 60,
     "metadata": {},
     "output_type": "execute_result"
    }
   ],
   "source": [
    "fault_tag_df.loc[fault_tag_df[\"serial_number\"]==\"disk_110667\"]"
   ]
  },
  {
   "cell_type": "code",
   "execution_count": 49,
   "metadata": {},
   "outputs": [
    {
     "data": {
      "text/plain": [
       "Text(0.5, 1.0, '201709')"
      ]
     },
     "execution_count": 49,
     "metadata": {},
     "output_type": "execute_result"
    },
    {
     "data": {
      "text/plain": [
       "<matplotlib.axes._subplots.AxesSubplot at 0x7f302873e1d0>"
      ]
     },
     "execution_count": 49,
     "metadata": {},
     "output_type": "execute_result"
    },
    {
     "data": {
      "image/png": "[encoded data removed]",
      "text/plain": [
       "<Figure size 864x360 with 1 Axes>"
      ]
     },
     "metadata": {},
     "output_type": "display_data"
    },
    {
     "data": {
      "text/plain": [
       "Text(0.5, 1.0, '201805')"
      ]
     },
     "execution_count": 49,
     "metadata": {},
     "output_type": "execute_result"
    },
    {
     "data": {
      "text/plain": [
       "<matplotlib.axes._subplots.AxesSubplot at 0x7f3028722cf8>"
      ]
     },
     "execution_count": 49,
     "metadata": {},
     "output_type": "execute_result"
    },
    {
     "data": {
      "image/png": "[encoded data removed]",
      "text/plain": [
       "<Figure size 864x360 with 1 Axes>"
      ]
     },
     "metadata": {},
     "output_type": "display_data"
    },
    {
     "data": {
      "text/plain": [
       "Text(0.5, 1.0, '201806')"
      ]
     },
     "execution_count": 49,
     "metadata": {},
     "output_type": "execute_result"
    },
    {
     "data": {
      "text/plain": [
       "<matplotlib.axes._subplots.AxesSubplot at 0x7f302868efd0>"
      ]
     },
     "execution_count": 49,
     "metadata": {},
     "output_type": "execute_result"
    },
    {
     "data": {
      "image/png": "[encoded data removed]",
      "text/plain": [
       "<Figure size 864x360 with 1 Axes>"
      ]
     },
     "metadata": {},
     "output_type": "display_data"
    },
    {
     "data": {
      "text/plain": [
       "Text(0.5, 1.0, '201802')"
      ]
     },
     "execution_count": 49,
     "metadata": {},
     "output_type": "execute_result"
    },
    {
     "data": {
      "text/plain": [
       "<matplotlib.axes._subplots.AxesSubplot at 0x7f302882e358>"
      ]
     },
     "execution_count": 49,
     "metadata": {},
     "output_type": "execute_result"
    },
    {
     "data": {
      "image/png": "[encoded data removed]",
      "text/plain": [
       "<Figure size 864x360 with 1 Axes>"
      ]
     },
     "metadata": {},
     "output_type": "display_data"
    },
    {
     "data": {
      "text/plain": [
       "Text(0.5, 1.0, '201710')"
      ]
     },
     "execution_count": 49,
     "metadata": {},
     "output_type": "execute_result"
    },
    {
     "data": {
      "text/plain": [
       "<matplotlib.axes._subplots.AxesSubplot at 0x7f302dfd00b8>"
      ]
     },
     "execution_count": 49,
     "metadata": {},
     "output_type": "execute_result"
    },
    {
     "data": {
      "image/png": "[encoded data removed]",
      "text/plain": [
       "<Figure size 864x360 with 1 Axes>"
      ]
     },
     "metadata": {},
     "output_type": "display_data"
    },
    {
     "data": {
      "text/plain": [
       "Text(0.5, 1.0, '201711')"
      ]
     },
     "execution_count": 49,
     "metadata": {},
     "output_type": "execute_result"
    },
    {
     "data": {
      "text/plain": [
       "<matplotlib.axes._subplots.AxesSubplot at 0x7f302d6a4b00>"
      ]
     },
     "execution_count": 49,
     "metadata": {},
     "output_type": "execute_result"
    },
    {
     "data": {
      "image/png": "[encoded data removed]",
      "text/plain": [
       "<Figure size 864x360 with 1 Axes>"
      ]
     },
     "metadata": {},
     "output_type": "display_data"
    },
    {
     "data": {
      "text/plain": [
       "Text(0.5, 1.0, '201708')"
      ]
     },
     "execution_count": 49,
     "metadata": {},
     "output_type": "execute_result"
    },
    {
     "data": {
      "text/plain": [
       "<matplotlib.axes._subplots.AxesSubplot at 0x7f302d88cac8>"
      ]
     },
     "execution_count": 49,
     "metadata": {},
     "output_type": "execute_result"
    },
    {
     "data": {
      "image/png": "[encoded data removed]",
      "text/plain": [
       "<Figure size 864x360 with 1 Axes>"
      ]
     },
     "metadata": {},
     "output_type": "display_data"
    },
    {
     "data": {
      "text/plain": [
       "Text(0.5, 1.0, '201807')"
      ]
     },
     "execution_count": 49,
     "metadata": {},
     "output_type": "execute_result"
    },
    {
     "data": {
      "text/plain": [
       "<matplotlib.axes._subplots.AxesSubplot at 0x7f3028ba61d0>"
      ]
     },
     "execution_count": 49,
     "metadata": {},
     "output_type": "execute_result"
    },
    {
     "data": {
      "image/png": "[encoded data removed]",
      "text/plain": [
       "<Figure size 864x360 with 1 Axes>"
      ]
     },
     "metadata": {},
     "output_type": "display_data"
    },
    {
     "data": {
      "text/plain": [
       "Text(0.5, 1.0, '201707')"
      ]
     },
     "execution_count": 49,
     "metadata": {},
     "output_type": "execute_result"
    },
    {
     "data": {
      "text/plain": [
       "<matplotlib.axes._subplots.AxesSubplot at 0x7f3028b40dd8>"
      ]
     },
     "execution_count": 49,
     "metadata": {},
     "output_type": "execute_result"
    },
    {
     "data": {
      "image/png": "[encoded data removed]",
      "text/plain": [
       "<Figure size 864x360 with 1 Axes>"
      ]
     },
     "metadata": {},
     "output_type": "display_data"
    },
    {
     "data": {
      "text/plain": [
       "Text(0.5, 1.0, '201804')"
      ]
     },
     "execution_count": 49,
     "metadata": {},
     "output_type": "execute_result"
    },
    {
     "data": {
      "text/plain": [
       "<matplotlib.axes._subplots.AxesSubplot at 0x7f3028bcd9b0>"
      ]
     },
     "execution_count": 49,
     "metadata": {},
     "output_type": "execute_result"
    },
    {
     "data": {
      "image/png": "[encoded data removed]",
      "text/plain": [
       "<Figure size 864x360 with 1 Axes>"
      ]
     },
     "metadata": {},
     "output_type": "display_data"
    },
    {
     "data": {
      "text/plain": [
       "Text(0.5, 1.0, '201803')"
      ]
     },
     "execution_count": 49,
     "metadata": {},
     "output_type": "execute_result"
    },
    {
     "data": {
      "text/plain": [
       "<matplotlib.axes._subplots.AxesSubplot at 0x7f3028b6e588>"
      ]
     },
     "execution_count": 49,
     "metadata": {},
     "output_type": "execute_result"
    },
    {
     "data": {
      "image/png": "[encoded data removed]",
      "text/plain": [
       "<Figure size 864x360 with 1 Axes>"
      ]
     },
     "metadata": {},
     "output_type": "display_data"
    },
    {
     "data": {
      "text/plain": [
       "Text(0.5, 1.0, '201801')"
      ]
     },
     "execution_count": 49,
     "metadata": {},
     "output_type": "execute_result"
    },
    {
     "data": {
      "text/plain": [
       "<matplotlib.axes._subplots.AxesSubplot at 0x7f3028b9ccf8>"
      ]
     },
     "execution_count": 49,
     "metadata": {},
     "output_type": "execute_result"
    },
    {
     "data": {
      "image/png": "[encoded data removed]",
      "text/plain": [
       "<Figure size 864x360 with 1 Axes>"
      ]
     },
     "metadata": {},
     "output_type": "display_data"
    },
    {
     "data": {
      "text/plain": [
       "Text(0.5, 1.0, '201712')"
      ]
     },
     "execution_count": 49,
     "metadata": {},
     "output_type": "execute_result"
    },
    {
     "data": {
      "text/plain": [
       "<matplotlib.axes._subplots.AxesSubplot at 0x7f3028b842b0>"
      ]
     },
     "execution_count": 49,
     "metadata": {},
     "output_type": "execute_result"
    },
    {
     "data": {
      "image/png": "[encoded data removed]",
      "text/plain": [
       "<Figure size 864x360 with 1 Axes>"
      ]
     },
     "metadata": {},
     "output_type": "display_data"
    }
   ],
   "source": [
    "#show nums of different faults in each month\n",
    "for item in fault_type.items():\n",
    "    f, ax= plt.subplots(figsize = (12, 5))\n",
    "    ax.set_title(item[0], fontsize=16)\n",
    "    sns.barplot(x = tags, y = item[1])\n",
    "    plt.show()"
   ]
  },
  {
   "cell_type": "code",
   "execution_count": 7,
   "metadata": {
    "scrolled": true
   },
   "outputs": [
    {
     "data": {
      "text/html": [
       "<div>\n",
       "<style scoped>\n",
       "    .dataframe tbody tr th:only-of-type {\n",
       "        vertical-align: middle;\n",
       "    }\n",
       "\n",
       "    .dataframe tbody tr th {\n",
       "        vertical-align: top;\n",
       "    }\n",
       "\n",
       "    .dataframe thead th {\n",
       "        text-align: right;\n",
       "    }\n",
       "</style>\n",
       "<table border=\"1\" class=\"dataframe\">\n",
       "  <thead>\n",
       "    <tr style=\"text-align: right;\">\n",
       "      <th></th>\n",
       "      <th>manufacturer</th>\n",
       "      <th>model</th>\n",
       "      <th>serial_number</th>\n",
       "      <th>fault_time</th>\n",
       "      <th>tag</th>\n",
       "    </tr>\n",
       "  </thead>\n",
       "  <tbody>\n",
       "    <tr>\n",
       "      <th>0</th>\n",
       "      <td>A</td>\n",
       "      <td>1</td>\n",
       "      <td>disk_100102</td>\n",
       "      <td>2017-09-29</td>\n",
       "      <td>0</td>\n",
       "    </tr>\n",
       "    <tr>\n",
       "      <th>1</th>\n",
       "      <td>A</td>\n",
       "      <td>1</td>\n",
       "      <td>disk_100584</td>\n",
       "      <td>2018-05-02</td>\n",
       "      <td>6</td>\n",
       "    </tr>\n",
       "    <tr>\n",
       "      <th>2</th>\n",
       "      <td>A</td>\n",
       "      <td>1</td>\n",
       "      <td>disk_100669</td>\n",
       "      <td>2018-06-22</td>\n",
       "      <td>3</td>\n",
       "    </tr>\n",
       "    <tr>\n",
       "      <th>3</th>\n",
       "      <td>A</td>\n",
       "      <td>1</td>\n",
       "      <td>disk_101190</td>\n",
       "      <td>2018-02-19</td>\n",
       "      <td>5</td>\n",
       "    </tr>\n",
       "    <tr>\n",
       "      <th>4</th>\n",
       "      <td>A</td>\n",
       "      <td>1</td>\n",
       "      <td>disk_103158</td>\n",
       "      <td>2017-10-20</td>\n",
       "      <td>0</td>\n",
       "    </tr>\n",
       "  </tbody>\n",
       "</table>\n",
       "</div>"
      ],
      "text/plain": [
       "  manufacturer  model serial_number  fault_time  tag\n",
       "0            A      1   disk_100102  2017-09-29    0\n",
       "1            A      1   disk_100584  2018-05-02    6\n",
       "2            A      1   disk_100669  2018-06-22    3\n",
       "3            A      1   disk_101190  2018-02-19    5\n",
       "4            A      1   disk_103158  2017-10-20    0"
      ]
     },
     "execution_count": 7,
     "metadata": {},
     "output_type": "execute_result"
    }
   ],
   "source": [
    "fault_tag_df.head()"
   ]
  },
  {
   "cell_type": "code",
   "execution_count": 51,
   "metadata": {},
   "outputs": [],
   "source": [
    "log_1707_norm_df = pd.read_csv(os.path.join(conf.DATA_DIR, 'disk_sample_smart_log_201707_norm.csv'))"
   ]
  },
  {
   "cell_type": "code",
   "execution_count": 55,
   "metadata": {},
   "outputs": [
    {
     "data": {
      "text/plain": [
       "(1610007, 28)"
      ]
     },
     "execution_count": 55,
     "metadata": {},
     "output_type": "execute_result"
    }
   ],
   "source": [
    "log_1707_norm_df.shape"
   ]
  },
  {
   "cell_type": "code",
   "execution_count": 59,
   "metadata": {},
   "outputs": [
    {
     "data": {
      "text/html": [
       "<div>\n",
       "<style scoped>\n",
       "    .dataframe tbody tr th:only-of-type {\n",
       "        vertical-align: middle;\n",
       "    }\n",
       "\n",
       "    .dataframe tbody tr th {\n",
       "        vertical-align: top;\n",
       "    }\n",
       "\n",
       "    .dataframe thead th {\n",
       "        text-align: right;\n",
       "    }\n",
       "</style>\n",
       "<table border=\"1\" class=\"dataframe\">\n",
       "  <thead>\n",
       "    <tr style=\"text-align: right;\">\n",
       "      <th></th>\n",
       "      <th>serial_number</th>\n",
       "      <th>manufacturer</th>\n",
       "      <th>model</th>\n",
       "      <th>dt</th>\n",
       "      <th>smart_1_normalized</th>\n",
       "      <th>smart_3_normalized</th>\n",
       "      <th>smart_4_normalized</th>\n",
       "      <th>smart_5_normalized</th>\n",
       "      <th>smart_7_normalized</th>\n",
       "      <th>smart_9_normalized</th>\n",
       "      <th>smart_10_normalized</th>\n",
       "      <th>smart_12_normalized</th>\n",
       "      <th>smart_184_normalized</th>\n",
       "      <th>smart_187_normalized</th>\n",
       "      <th>smart_188_normalized</th>\n",
       "      <th>smart_189_normalized</th>\n",
       "      <th>smart_190_normalized</th>\n",
       "      <th>smart_191_normalized</th>\n",
       "      <th>smart_192_normalized</th>\n",
       "      <th>smart_193_normalized</th>\n",
       "      <th>smart_194_normalized</th>\n",
       "      <th>smart_195_normalized</th>\n",
       "      <th>smart_197_normalized</th>\n",
       "      <th>smart_198_normalized</th>\n",
       "      <th>smart_199_normalized</th>\n",
       "      <th>smart_240_normalized</th>\n",
       "      <th>smart_241_normalized</th>\n",
       "      <th>smart_242_normalized</th>\n",
       "    </tr>\n",
       "  </thead>\n",
       "  <tbody>\n",
       "    <tr>\n",
       "      <th>51876</th>\n",
       "      <td>disk_110667</td>\n",
       "      <td>A</td>\n",
       "      <td>1</td>\n",
       "      <td>20170715</td>\n",
       "      <td>82.0</td>\n",
       "      <td>95.0</td>\n",
       "      <td>100.0</td>\n",
       "      <td>100.0</td>\n",
       "      <td>93.0</td>\n",
       "      <td>70.0</td>\n",
       "      <td>100.0</td>\n",
       "      <td>100.0</td>\n",
       "      <td>100.0</td>\n",
       "      <td>100.0</td>\n",
       "      <td>100.0</td>\n",
       "      <td>100.0</td>\n",
       "      <td>68.0</td>\n",
       "      <td>100.0</td>\n",
       "      <td>100.0</td>\n",
       "      <td>100.0</td>\n",
       "      <td>32.0</td>\n",
       "      <td>38.0</td>\n",
       "      <td>100.0</td>\n",
       "      <td>100.0</td>\n",
       "      <td>200.0</td>\n",
       "      <td>NaN</td>\n",
       "      <td>NaN</td>\n",
       "      <td>NaN</td>\n",
       "    </tr>\n",
       "    <tr>\n",
       "      <th>93816</th>\n",
       "      <td>disk_110667</td>\n",
       "      <td>A</td>\n",
       "      <td>1</td>\n",
       "      <td>20170718</td>\n",
       "      <td>83.0</td>\n",
       "      <td>95.0</td>\n",
       "      <td>100.0</td>\n",
       "      <td>100.0</td>\n",
       "      <td>93.0</td>\n",
       "      <td>70.0</td>\n",
       "      <td>100.0</td>\n",
       "      <td>100.0</td>\n",
       "      <td>100.0</td>\n",
       "      <td>100.0</td>\n",
       "      <td>100.0</td>\n",
       "      <td>100.0</td>\n",
       "      <td>68.0</td>\n",
       "      <td>100.0</td>\n",
       "      <td>100.0</td>\n",
       "      <td>100.0</td>\n",
       "      <td>32.0</td>\n",
       "      <td>37.0</td>\n",
       "      <td>100.0</td>\n",
       "      <td>100.0</td>\n",
       "      <td>200.0</td>\n",
       "      <td>NaN</td>\n",
       "      <td>NaN</td>\n",
       "      <td>NaN</td>\n",
       "    </tr>\n",
       "    <tr>\n",
       "      <th>117003</th>\n",
       "      <td>disk_110667</td>\n",
       "      <td>A</td>\n",
       "      <td>1</td>\n",
       "      <td>20170717</td>\n",
       "      <td>84.0</td>\n",
       "      <td>95.0</td>\n",
       "      <td>100.0</td>\n",
       "      <td>100.0</td>\n",
       "      <td>93.0</td>\n",
       "      <td>70.0</td>\n",
       "      <td>100.0</td>\n",
       "      <td>100.0</td>\n",
       "      <td>100.0</td>\n",
       "      <td>100.0</td>\n",
       "      <td>100.0</td>\n",
       "      <td>100.0</td>\n",
       "      <td>68.0</td>\n",
       "      <td>100.0</td>\n",
       "      <td>100.0</td>\n",
       "      <td>100.0</td>\n",
       "      <td>32.0</td>\n",
       "      <td>37.0</td>\n",
       "      <td>100.0</td>\n",
       "      <td>100.0</td>\n",
       "      <td>200.0</td>\n",
       "      <td>NaN</td>\n",
       "      <td>NaN</td>\n",
       "      <td>NaN</td>\n",
       "    </tr>\n",
       "    <tr>\n",
       "      <th>195220</th>\n",
       "      <td>disk_110667</td>\n",
       "      <td>A</td>\n",
       "      <td>1</td>\n",
       "      <td>20170711</td>\n",
       "      <td>81.0</td>\n",
       "      <td>95.0</td>\n",
       "      <td>100.0</td>\n",
       "      <td>100.0</td>\n",
       "      <td>93.0</td>\n",
       "      <td>70.0</td>\n",
       "      <td>100.0</td>\n",
       "      <td>100.0</td>\n",
       "      <td>100.0</td>\n",
       "      <td>100.0</td>\n",
       "      <td>100.0</td>\n",
       "      <td>100.0</td>\n",
       "      <td>68.0</td>\n",
       "      <td>100.0</td>\n",
       "      <td>100.0</td>\n",
       "      <td>100.0</td>\n",
       "      <td>32.0</td>\n",
       "      <td>36.0</td>\n",
       "      <td>100.0</td>\n",
       "      <td>100.0</td>\n",
       "      <td>200.0</td>\n",
       "      <td>NaN</td>\n",
       "      <td>NaN</td>\n",
       "      <td>NaN</td>\n",
       "    </tr>\n",
       "    <tr>\n",
       "      <th>218586</th>\n",
       "      <td>disk_110667</td>\n",
       "      <td>A</td>\n",
       "      <td>1</td>\n",
       "      <td>20170713</td>\n",
       "      <td>81.0</td>\n",
       "      <td>95.0</td>\n",
       "      <td>100.0</td>\n",
       "      <td>100.0</td>\n",
       "      <td>93.0</td>\n",
       "      <td>70.0</td>\n",
       "      <td>100.0</td>\n",
       "      <td>100.0</td>\n",
       "      <td>100.0</td>\n",
       "      <td>100.0</td>\n",
       "      <td>100.0</td>\n",
       "      <td>100.0</td>\n",
       "      <td>68.0</td>\n",
       "      <td>100.0</td>\n",
       "      <td>100.0</td>\n",
       "      <td>100.0</td>\n",
       "      <td>32.0</td>\n",
       "      <td>35.0</td>\n",
       "      <td>100.0</td>\n",
       "      <td>100.0</td>\n",
       "      <td>200.0</td>\n",
       "      <td>NaN</td>\n",
       "      <td>NaN</td>\n",
       "      <td>NaN</td>\n",
       "    </tr>\n",
       "    <tr>\n",
       "      <th>441011</th>\n",
       "      <td>disk_110667</td>\n",
       "      <td>A</td>\n",
       "      <td>1</td>\n",
       "      <td>20170716</td>\n",
       "      <td>82.0</td>\n",
       "      <td>95.0</td>\n",
       "      <td>100.0</td>\n",
       "      <td>100.0</td>\n",
       "      <td>93.0</td>\n",
       "      <td>70.0</td>\n",
       "      <td>100.0</td>\n",
       "      <td>100.0</td>\n",
       "      <td>100.0</td>\n",
       "      <td>100.0</td>\n",
       "      <td>100.0</td>\n",
       "      <td>100.0</td>\n",
       "      <td>68.0</td>\n",
       "      <td>100.0</td>\n",
       "      <td>100.0</td>\n",
       "      <td>100.0</td>\n",
       "      <td>32.0</td>\n",
       "      <td>37.0</td>\n",
       "      <td>100.0</td>\n",
       "      <td>100.0</td>\n",
       "      <td>200.0</td>\n",
       "      <td>NaN</td>\n",
       "      <td>NaN</td>\n",
       "      <td>NaN</td>\n",
       "    </tr>\n",
       "    <tr>\n",
       "      <th>555642</th>\n",
       "      <td>disk_110667</td>\n",
       "      <td>A</td>\n",
       "      <td>1</td>\n",
       "      <td>20170720</td>\n",
       "      <td>66.0</td>\n",
       "      <td>95.0</td>\n",
       "      <td>100.0</td>\n",
       "      <td>100.0</td>\n",
       "      <td>93.0</td>\n",
       "      <td>70.0</td>\n",
       "      <td>100.0</td>\n",
       "      <td>100.0</td>\n",
       "      <td>100.0</td>\n",
       "      <td>100.0</td>\n",
       "      <td>100.0</td>\n",
       "      <td>100.0</td>\n",
       "      <td>68.0</td>\n",
       "      <td>100.0</td>\n",
       "      <td>100.0</td>\n",
       "      <td>100.0</td>\n",
       "      <td>32.0</td>\n",
       "      <td>38.0</td>\n",
       "      <td>100.0</td>\n",
       "      <td>100.0</td>\n",
       "      <td>200.0</td>\n",
       "      <td>NaN</td>\n",
       "      <td>NaN</td>\n",
       "      <td>NaN</td>\n",
       "    </tr>\n",
       "    <tr>\n",
       "      <th>768795</th>\n",
       "      <td>disk_110667</td>\n",
       "      <td>A</td>\n",
       "      <td>1</td>\n",
       "      <td>20170714</td>\n",
       "      <td>81.0</td>\n",
       "      <td>95.0</td>\n",
       "      <td>100.0</td>\n",
       "      <td>100.0</td>\n",
       "      <td>93.0</td>\n",
       "      <td>70.0</td>\n",
       "      <td>100.0</td>\n",
       "      <td>100.0</td>\n",
       "      <td>100.0</td>\n",
       "      <td>100.0</td>\n",
       "      <td>100.0</td>\n",
       "      <td>100.0</td>\n",
       "      <td>68.0</td>\n",
       "      <td>100.0</td>\n",
       "      <td>100.0</td>\n",
       "      <td>100.0</td>\n",
       "      <td>32.0</td>\n",
       "      <td>45.0</td>\n",
       "      <td>100.0</td>\n",
       "      <td>100.0</td>\n",
       "      <td>200.0</td>\n",
       "      <td>NaN</td>\n",
       "      <td>NaN</td>\n",
       "      <td>NaN</td>\n",
       "    </tr>\n",
       "    <tr>\n",
       "      <th>969068</th>\n",
       "      <td>disk_110667</td>\n",
       "      <td>A</td>\n",
       "      <td>1</td>\n",
       "      <td>20170719</td>\n",
       "      <td>83.0</td>\n",
       "      <td>95.0</td>\n",
       "      <td>100.0</td>\n",
       "      <td>100.0</td>\n",
       "      <td>93.0</td>\n",
       "      <td>70.0</td>\n",
       "      <td>100.0</td>\n",
       "      <td>100.0</td>\n",
       "      <td>100.0</td>\n",
       "      <td>100.0</td>\n",
       "      <td>100.0</td>\n",
       "      <td>100.0</td>\n",
       "      <td>68.0</td>\n",
       "      <td>100.0</td>\n",
       "      <td>100.0</td>\n",
       "      <td>100.0</td>\n",
       "      <td>32.0</td>\n",
       "      <td>36.0</td>\n",
       "      <td>100.0</td>\n",
       "      <td>100.0</td>\n",
       "      <td>200.0</td>\n",
       "      <td>NaN</td>\n",
       "      <td>NaN</td>\n",
       "      <td>NaN</td>\n",
       "    </tr>\n",
       "    <tr>\n",
       "      <th>1062829</th>\n",
       "      <td>disk_110667</td>\n",
       "      <td>A</td>\n",
       "      <td>1</td>\n",
       "      <td>20170712</td>\n",
       "      <td>80.0</td>\n",
       "      <td>95.0</td>\n",
       "      <td>100.0</td>\n",
       "      <td>100.0</td>\n",
       "      <td>93.0</td>\n",
       "      <td>70.0</td>\n",
       "      <td>100.0</td>\n",
       "      <td>100.0</td>\n",
       "      <td>100.0</td>\n",
       "      <td>100.0</td>\n",
       "      <td>100.0</td>\n",
       "      <td>100.0</td>\n",
       "      <td>68.0</td>\n",
       "      <td>100.0</td>\n",
       "      <td>100.0</td>\n",
       "      <td>100.0</td>\n",
       "      <td>32.0</td>\n",
       "      <td>41.0</td>\n",
       "      <td>100.0</td>\n",
       "      <td>100.0</td>\n",
       "      <td>200.0</td>\n",
       "      <td>NaN</td>\n",
       "      <td>NaN</td>\n",
       "      <td>NaN</td>\n",
       "    </tr>\n",
       "    <tr>\n",
       "      <th>1383823</th>\n",
       "      <td>disk_110667</td>\n",
       "      <td>A</td>\n",
       "      <td>1</td>\n",
       "      <td>20170709</td>\n",
       "      <td>81.0</td>\n",
       "      <td>95.0</td>\n",
       "      <td>100.0</td>\n",
       "      <td>100.0</td>\n",
       "      <td>93.0</td>\n",
       "      <td>71.0</td>\n",
       "      <td>100.0</td>\n",
       "      <td>100.0</td>\n",
       "      <td>100.0</td>\n",
       "      <td>100.0</td>\n",
       "      <td>100.0</td>\n",
       "      <td>100.0</td>\n",
       "      <td>68.0</td>\n",
       "      <td>100.0</td>\n",
       "      <td>100.0</td>\n",
       "      <td>100.0</td>\n",
       "      <td>32.0</td>\n",
       "      <td>41.0</td>\n",
       "      <td>100.0</td>\n",
       "      <td>100.0</td>\n",
       "      <td>200.0</td>\n",
       "      <td>NaN</td>\n",
       "      <td>NaN</td>\n",
       "      <td>NaN</td>\n",
       "    </tr>\n",
       "    <tr>\n",
       "      <th>1430687</th>\n",
       "      <td>disk_110667</td>\n",
       "      <td>A</td>\n",
       "      <td>1</td>\n",
       "      <td>20170710</td>\n",
       "      <td>81.0</td>\n",
       "      <td>95.0</td>\n",
       "      <td>100.0</td>\n",
       "      <td>100.0</td>\n",
       "      <td>93.0</td>\n",
       "      <td>70.0</td>\n",
       "      <td>100.0</td>\n",
       "      <td>100.0</td>\n",
       "      <td>100.0</td>\n",
       "      <td>100.0</td>\n",
       "      <td>100.0</td>\n",
       "      <td>100.0</td>\n",
       "      <td>68.0</td>\n",
       "      <td>100.0</td>\n",
       "      <td>100.0</td>\n",
       "      <td>100.0</td>\n",
       "      <td>32.0</td>\n",
       "      <td>34.0</td>\n",
       "      <td>100.0</td>\n",
       "      <td>100.0</td>\n",
       "      <td>200.0</td>\n",
       "      <td>NaN</td>\n",
       "      <td>NaN</td>\n",
       "      <td>NaN</td>\n",
       "    </tr>\n",
       "  </tbody>\n",
       "</table>\n",
       "</div>"
      ],
      "text/plain": [
       "        serial_number manufacturer  model        dt  smart_1_normalized  smart_3_normalized  \\\n",
       "51876     disk_110667            A      1  20170715                82.0                95.0   \n",
       "93816     disk_110667            A      1  20170718                83.0                95.0   \n",
       "117003    disk_110667            A      1  20170717                84.0                95.0   \n",
       "195220    disk_110667            A      1  20170711                81.0                95.0   \n",
       "218586    disk_110667            A      1  20170713                81.0                95.0   \n",
       "441011    disk_110667            A      1  20170716                82.0                95.0   \n",
       "555642    disk_110667            A      1  20170720                66.0                95.0   \n",
       "768795    disk_110667            A      1  20170714                81.0                95.0   \n",
       "969068    disk_110667            A      1  20170719                83.0                95.0   \n",
       "1062829   disk_110667            A      1  20170712                80.0                95.0   \n",
       "1383823   disk_110667            A      1  20170709                81.0                95.0   \n",
       "1430687   disk_110667            A      1  20170710                81.0                95.0   \n",
       "\n",
       "         smart_4_normalized  smart_5_normalized  smart_7_normalized  smart_9_normalized  \\\n",
       "51876                 100.0               100.0                93.0                70.0   \n",
       "93816                 100.0               100.0                93.0                70.0   \n",
       "117003                100.0               100.0                93.0                70.0   \n",
       "195220                100.0               100.0                93.0                70.0   \n",
       "218586                100.0               100.0                93.0                70.0   \n",
       "441011                100.0               100.0                93.0                70.0   \n",
       "555642                100.0               100.0                93.0                70.0   \n",
       "768795                100.0               100.0                93.0                70.0   \n",
       "969068                100.0               100.0                93.0                70.0   \n",
       "1062829               100.0               100.0                93.0                70.0   \n",
       "1383823               100.0               100.0                93.0                71.0   \n",
       "1430687               100.0               100.0                93.0                70.0   \n",
       "\n",
       "         smart_10_normalized  smart_12_normalized  smart_184_normalized  smart_187_normalized  \\\n",
       "51876                  100.0                100.0                 100.0                 100.0   \n",
       "93816                  100.0                100.0                 100.0                 100.0   \n",
       "117003                 100.0                100.0                 100.0                 100.0   \n",
       "195220                 100.0                100.0                 100.0                 100.0   \n",
       "218586                 100.0                100.0                 100.0                 100.0   \n",
       "441011                 100.0                100.0                 100.0                 100.0   \n",
       "555642                 100.0                100.0                 100.0                 100.0   \n",
       "768795                 100.0                100.0                 100.0                 100.0   \n",
       "969068                 100.0                100.0                 100.0                 100.0   \n",
       "1062829                100.0                100.0                 100.0                 100.0   \n",
       "1383823                100.0                100.0                 100.0                 100.0   \n",
       "1430687                100.0                100.0                 100.0                 100.0   \n",
       "\n",
       "         smart_188_normalized  smart_189_normalized  smart_190_normalized  smart_191_normalized  \\\n",
       "51876                   100.0                 100.0                  68.0                 100.0   \n",
       "93816                   100.0                 100.0                  68.0                 100.0   \n",
       "117003                  100.0                 100.0                  68.0                 100.0   \n",
       "195220                  100.0                 100.0                  68.0                 100.0   \n",
       "218586                  100.0                 100.0                  68.0                 100.0   \n",
       "441011                  100.0                 100.0                  68.0                 100.0   \n",
       "555642                  100.0                 100.0                  68.0                 100.0   \n",
       "768795                  100.0                 100.0                  68.0                 100.0   \n",
       "969068                  100.0                 100.0                  68.0                 100.0   \n",
       "1062829                 100.0                 100.0                  68.0                 100.0   \n",
       "1383823                 100.0                 100.0                  68.0                 100.0   \n",
       "1430687                 100.0                 100.0                  68.0                 100.0   \n",
       "\n",
       "         smart_192_normalized  smart_193_normalized  smart_194_normalized  smart_195_normalized  \\\n",
       "51876                   100.0                 100.0                  32.0                  38.0   \n",
       "93816                   100.0                 100.0                  32.0                  37.0   \n",
       "117003                  100.0                 100.0                  32.0                  37.0   \n",
       "195220                  100.0                 100.0                  32.0                  36.0   \n",
       "218586                  100.0                 100.0                  32.0                  35.0   \n",
       "441011                  100.0                 100.0                  32.0                  37.0   \n",
       "555642                  100.0                 100.0                  32.0                  38.0   \n",
       "768795                  100.0                 100.0                  32.0                  45.0   \n",
       "969068                  100.0                 100.0                  32.0                  36.0   \n",
       "1062829                 100.0                 100.0                  32.0                  41.0   \n",
       "1383823                 100.0                 100.0                  32.0                  41.0   \n",
       "1430687                 100.0                 100.0                  32.0                  34.0   \n",
       "\n",
       "         smart_197_normalized  smart_198_normalized  smart_199_normalized  smart_240_normalized  \\\n",
       "51876                   100.0                 100.0                 200.0                   NaN   \n",
       "93816                   100.0                 100.0                 200.0                   NaN   \n",
       "117003                  100.0                 100.0                 200.0                   NaN   \n",
       "195220                  100.0                 100.0                 200.0                   NaN   \n",
       "218586                  100.0                 100.0                 200.0                   NaN   \n",
       "441011                  100.0                 100.0                 200.0                   NaN   \n",
       "555642                  100.0                 100.0                 200.0                   NaN   \n",
       "768795                  100.0                 100.0                 200.0                   NaN   \n",
       "969068                  100.0                 100.0                 200.0                   NaN   \n",
       "1062829                 100.0                 100.0                 200.0                   NaN   \n",
       "1383823                 100.0                 100.0                 200.0                   NaN   \n",
       "1430687                 100.0                 100.0                 200.0                   NaN   \n",
       "\n",
       "         smart_241_normalized  smart_242_normalized  \n",
       "51876                     NaN                   NaN  \n",
       "93816                     NaN                   NaN  \n",
       "117003                    NaN                   NaN  \n",
       "195220                    NaN                   NaN  \n",
       "218586                    NaN                   NaN  \n",
       "441011                    NaN                   NaN  \n",
       "555642                    NaN                   NaN  \n",
       "768795                    NaN                   NaN  \n",
       "969068                    NaN                   NaN  \n",
       "1062829                   NaN                   NaN  \n",
       "1383823                   NaN                   NaN  \n",
       "1430687                   NaN                   NaN  "
      ]
     },
     "execution_count": 59,
     "metadata": {},
     "output_type": "execute_result"
    }
   ],
   "source": [
    "log_1707_norm_df.loc[log_1707_norm_df[\"serial_number\"] == \"disk_110667\"]"
   ]
  },
  {
   "cell_type": "code",
   "execution_count": 69,
   "metadata": {},
   "outputs": [
    {
     "name": "stdout",
     "output_type": "stream",
     "text": [
      "serial_number             disk_0\n",
      "manufacturer                   A\n",
      "model                          1\n",
      "dt                      20170709\n",
      "smart_1_normalized            36\n",
      "smart_3_normalized            83\n",
      "smart_4_normalized            53\n",
      "smart_5_normalized             1\n",
      "smart_7_normalized            42\n",
      "smart_9_normalized            11\n",
      "smart_10_normalized           98\n",
      "smart_12_normalized           47\n",
      "smart_184_normalized           1\n",
      "smart_187_normalized           1\n",
      "smart_188_normalized          75\n",
      "smart_189_normalized           1\n",
      "smart_190_normalized          44\n",
      "smart_191_normalized           1\n",
      "smart_192_normalized          74\n",
      "smart_193_normalized          63\n",
      "smart_194_normalized           0\n",
      "smart_195_normalized           1\n",
      "smart_197_normalized           1\n",
      "smart_198_normalized           1\n",
      "smart_199_normalized         200\n",
      "smart_240_normalized         100\n",
      "smart_241_normalized         100\n",
      "smart_242_normalized         100\n",
      "dtype: object serial_number           disk_99996\n",
      "manufacturer                     A\n",
      "model                            2\n",
      "dt                        20170731\n",
      "smart_1_normalized             100\n",
      "smart_3_normalized             100\n",
      "smart_4_normalized             100\n",
      "smart_5_normalized             100\n",
      "smart_7_normalized             100\n",
      "smart_9_normalized             100\n",
      "smart_10_normalized            100\n",
      "smart_12_normalized            100\n",
      "smart_184_normalized           100\n",
      "smart_187_normalized           100\n",
      "smart_188_normalized           100\n",
      "smart_189_normalized           100\n",
      "smart_190_normalized           100\n",
      "smart_191_normalized           100\n",
      "smart_192_normalized           100\n",
      "smart_193_normalized           100\n",
      "smart_194_normalized            56\n",
      "smart_195_normalized           100\n",
      "smart_197_normalized           100\n",
      "smart_198_normalized           100\n",
      "smart_199_normalized           200\n",
      "smart_240_normalized           100\n",
      "smart_241_normalized           100\n",
      "smart_242_normalized           100\n",
      "dtype: object\n"
     ]
    }
   ],
   "source": [
    "print(log_1707_norm_df.min(), log_1707_norm_df.max())"
   ]
  },
  {
   "cell_type": "code",
   "execution_count": null,
   "metadata": {},
   "outputs": [],
   "source": [
    "# disk_sample_smart_log_201707.csv\n",
    "log_1711_norm_df = pd.DataFrame()\n",
    "log_1711_raw_df = pd.DataFrame()"
   ]
  },
  {
   "cell_type": "code",
   "execution_count": 8,
   "metadata": {},
   "outputs": [],
   "source": [
    "primary_key = ['serial_number','manufacturer', 'model', 'dt']\n",
    "norm_cols = primary_key + ['smart_%s_normalized'%i for i in range(1,256)]\n",
    "raw_cols = primary_key + ['smart_%sraw'%i for i in range(1,256)]"
   ]
  },
  {
   "cell_type": "code",
   "execution_count": null,
   "metadata": {},
   "outputs": [],
   "source": [
    "for sub_df in pd.read_csv(os.path.join(conf.DATA_DIR, 'disk_sample_smart_log_201707.csv'),chunksize=1e+4):\n",
    "        log_1711_norm_df = pd.concat([log_1711_norm_df, sub_df[norm_cols]])\n",
    "        log_1711_raw_df = pd.concat([log_1711_raw_df, sub_df[raw_cols]])"
   ]
  },
  {
   "cell_type": "code",
   "execution_count": null,
   "metadata": {},
   "outputs": [],
   "source": [
    "# remove nan column\n",
    "log_1711_norm_df.dropna(axis=1, how='all', inplace=True)\n",
    "log_1711_raw_df.dropna(axis=1,how='all', inplace=True)"
   ]
  },
  {
   "cell_type": "code",
   "execution_count": null,
   "metadata": {},
   "outputs": [],
   "source": [
    "log_1711_norm_df.to_csv(os.path.join(conf.DATA_DIR, 'disk_sample_smart_log_201707_norm.csv'),index=False)\n",
    "log_1711_raw_df.to_csv(os.path.join(conf.DATA_DIR, 'disk_sample_smart_log_201707_raw.csv'),index=False)"
   ]
  },
  {
   "cell_type": "code",
   "execution_count": null,
   "metadata": {},
   "outputs": [],
   "source": [
    "log_1711_norm_df.head()"
   ]
  },
  {
   "cell_type": "code",
   "execution_count": 107,
   "metadata": {},
   "outputs": [],
   "source": [
    "# use a dict to store fault information of each disk\n",
    "# in given months.\n",
    "fault_dic = {}\n",
    "serial_list = []\n",
    "months = [\"201804\",\"201805\", \"201806\", \"201807\"]\n",
    "for index, row in fault_tag_df.iterrows():\n",
    "    f_time = row[\"fault_time\"].split('-')\n",
    "    tag = int(row[\"tag\"])\n",
    "    year_month = f_time[0] + f_time[1]\n",
    "    date = ''.join(f_time)\n",
    "    if year_month in months:\n",
    "        sub_dic = {}\n",
    "        sub_dic[\"date\"] = int(date)\n",
    "        sub_dic[\"tag\"] = tag\n",
    "        # found fault log with identical date.\n",
    "        if row[\"serial_number\"] in fault_dic:\n",
    "            serial_list.append(row[\"serial_number\"])\n",
    "        fault_dic[row[\"serial_number\"]] = sub_dic\n",
    "        "
   ]
  },
  {
   "cell_type": "code",
   "execution_count": 95,
   "metadata": {},
   "outputs": [
    {
     "name": "stdout",
     "output_type": "stream",
     "text": [
      "   manufacturer  model serial_number  fault_time  tag\n",
      "72            A      1    disk_37873  2018-07-22    0\n",
      "73            A      1    disk_37873  2018-07-22    6\n",
      "    manufacturer  model serial_number  fault_time  tag\n",
      "265            A      1   disk_120723  2018-07-31    1\n",
      "266            A      1   disk_120723  2018-07-31    4\n",
      "    manufacturer  model serial_number  fault_time  tag\n",
      "356            A      1    disk_65482  2018-07-25    5\n",
      "469            A      1    disk_65482  2018-07-25    4\n",
      "    manufacturer  model serial_number  fault_time  tag\n",
      "277            A      1   disk_130083  2018-07-16    6\n",
      "661            A      1   disk_130083  2018-07-16    0\n",
      "     manufacturer  model serial_number  fault_time  tag\n",
      "446             A      1    disk_49806  2018-07-19    6\n",
      "732             A      1    disk_49806  2018-07-19    0\n",
      "1052            A      1    disk_49806  2018-07-19    1\n",
      "    manufacturer  model serial_number  fault_time  tag\n",
      "468            A      1    disk_65444  2018-07-27    0\n",
      "746            A      1    disk_65444  2018-07-27    6\n",
      "    manufacturer  model serial_number  fault_time  tag\n",
      "116            A      1    disk_66613  2018-07-30    4\n",
      "751            A      1    disk_66613  2018-07-30    1\n",
      "    manufacturer  model serial_number  fault_time  tag\n",
      "638            A      1   disk_109486  2018-07-27    6\n",
      "974            A      1   disk_109486  2018-07-27    0\n",
      "    manufacturer  model serial_number  fault_time  tag\n",
      "269            A      1   disk_123684  2018-07-28    1\n",
      "987            A      1   disk_123684  2018-07-28    4\n",
      "    manufacturer  model serial_number  fault_time  tag\n",
      "274            A      1   disk_127435  2018-07-17    0\n",
      "990            A      1   disk_127435  2018-07-17    6\n",
      "     manufacturer  model serial_number  fault_time  tag\n",
      "446             A      1    disk_49806  2018-07-19    6\n",
      "732             A      1    disk_49806  2018-07-19    0\n",
      "1052            A      1    disk_49806  2018-07-19    1\n",
      "     manufacturer  model serial_number  fault_time  tag\n",
      "9               A      1   disk_107044  2018-07-25    1\n",
      "1207            A      1   disk_107044  2018-07-25    3\n",
      "     manufacturer  model serial_number  fault_time  tag\n",
      "264             A      1   disk_120394  2018-06-30    0\n",
      "1212            A      1   disk_120394  2018-06-30    6\n",
      "     manufacturer  model serial_number  fault_time  tag\n",
      "63              A      1    disk_29557  2018-07-29    4\n",
      "1276            A      1    disk_29557  2018-07-29    1\n"
     ]
    }
   ],
   "source": [
    "# some fault occurred in July with multiple tags.\n",
    "for i in range(len(serial_list)):\n",
    "    print(fault_tag_df.loc[fault_tag_df[\"serial_number\"] == serial_list[i]])"
   ]
  },
  {
   "cell_type": "code",
   "execution_count": 106,
   "metadata": {},
   "outputs": [],
   "source": [
    "# compute days between 2 dates\n",
    "def days_diff(date1, date2):\n",
    "    date1_y = int(date1//1e4) \n",
    "    date1_m = int((date1//100)%100)\n",
    "    date1_d = int(date1%100)\n",
    "    date2_y = int(date2//1e4) \n",
    "    date2_m = int((date2//100)%100)\n",
    "    date2_d = int(date2%100)\n",
    "    return (datetime(date1_y, date1_m, date1_d)-datetime(date2_y, date2_m, date2_d)).days"
   ]
  },
  {
   "cell_type": "code",
   "execution_count": 113,
   "metadata": {},
   "outputs": [
    {
     "name": "stdout",
     "output_type": "stream",
     "text": [
      "disk_sample_smart_log_201804_norm.csv\n",
      "month 4 finished\n",
      "disk_sample_smart_log_201805_norm.csv\n",
      "month 5 finished\n",
      "disk_sample_smart_log_201806_norm.csv\n",
      "month 6 finished\n",
      "disk_sample_smart_log_201807_norm.csv\n",
      "month 7 finished\n"
     ]
    }
   ],
   "source": [
    "data = [4,5,6,7]\n",
    "for i in data:\n",
    "    print('disk_sample_smart_log_20180%s_norm.csv' % i)\n",
    "    df = pd.read_csv(os.path.join(conf.DATA_DIR, 'disk_sample_smart_log_20180%s_norm.csv' % i))    \n",
    "    df[\"tag\"] = 0\n",
    "    for index, row in df.iterrows():\n",
    "        if row[\"serial_number\"] in fault_dic:\n",
    "            fault_date = fault_dic[row[\"serial_number\"]][\"date\"]\n",
    "            if days_diff(fault_date, row[\"dt\"]) >= 0 and days_diff(fault_date, row[\"dt\"]) <= 30:\n",
    "                row[\"tag\"] = fault_dic[row[\"serial_number\"]][\"tag\"] + 1\n",
    "    df.to_csv(os.path.join(conf.DATA_DIR, 'disk_sample_smart_log_20180%s_norm_tag.csv'%i),index=False)\n",
    "    print(\"month %s finished\" % i)"
   ]
  },
  {
   "cell_type": "markdown",
   "metadata": {},
   "source": [
    "### To hdf5"
   ]
  },
  {
   "cell_type": "code",
   "execution_count": 14,
   "metadata": {},
   "outputs": [],
   "source": [
    "filename = \"train_4_5_norm_tag.h5\"\n",
    "df = pd.read_csv(os.path.join(conf.DATA_DIR, 'disk_sample_smart_log_201804_norm_tag.csv'))"
   ]
  },
  {
   "cell_type": "code",
   "execution_count": 18,
   "metadata": {},
   "outputs": [],
   "source": [
    "hdf_train = pd.HDFStore(os.path.join(conf.DATA_DIR,'train_4_5_norm_tag.h5'),'w')\n",
    "hdf_train.put(key='data', value=df,format='table', data_columns=True)"
   ]
  },
  {
   "cell_type": "code",
   "execution_count": 19,
   "metadata": {},
   "outputs": [],
   "source": [
    "del df\n",
    "df1 = pd.read_csv(os.path.join(conf.DATA_DIR, 'disk_sample_smart_log_201805_norm_tag.csv'))\n",
    "hdf_train.append(key='data', value=df1, format='table', data_columns=True)"
   ]
  },
  {
   "cell_type": "code",
   "execution_count": 20,
   "metadata": {},
   "outputs": [],
   "source": [
    "hdf_train.close()"
   ]
  },
  {
   "cell_type": "code",
   "execution_count": 21,
   "metadata": {},
   "outputs": [],
   "source": [
    "del df1\n",
    "validfile = \"valid_6_norm_tag.h5\"\n",
    "df2 = pd.read_csv(os.path.join(conf.DATA_DIR, 'disk_sample_smart_log_201806_norm_tag.csv'))\n",
    "hdf_valid = pd.HDFStore(os.path.join(conf.DATA_DIR,validfile),'w')\n",
    "hdf_valid.put(key='data', value=df2,format='table', data_columns=True)\n",
    "hdf_train.close()"
   ]
  },
  {
   "cell_type": "code",
   "execution_count": null,
   "metadata": {},
   "outputs": [],
   "source": []
  }
 ],
 "metadata": {
  "kernelspec": {
   "display_name": "Python 3",
   "language": "python",
   "name": "python3"
  },
  "language_info": {
   "codemirror_mode": {
    "name": "ipython",
    "version": 3
   },
   "file_extension": ".py",
   "mimetype": "text/x-python",
   "name": "python",
   "nbconvert_exporter": "python",
   "pygments_lexer": "ipython3",
   "version": "3.6.9"
  }
 },
 "nbformat": 4,
 "nbformat_minor": 4
}
